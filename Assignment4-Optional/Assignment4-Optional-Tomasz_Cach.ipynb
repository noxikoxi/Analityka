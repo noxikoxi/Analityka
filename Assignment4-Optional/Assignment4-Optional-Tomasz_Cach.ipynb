{
 "cells": [
  {
   "cell_type": "markdown",
   "source": [
    "# SMS SPAM CLASSIFICATION\n",
    "\n",
    "## [Database source](https://archive.ics.uci.edu/dataset/228/sms+spam+collection)"
   ],
   "metadata": {
    "collapsed": false
   },
   "id": "ce6a84e6d3cbc2d3"
  },
  {
   "cell_type": "code",
   "execution_count": 220,
   "outputs": [],
   "source": [
    "import pandas as pd\n",
    "import string\n",
    "import numpy as np\n",
    "from sklearn.feature_extraction.text import CountVectorizer\n",
    "from sklearn.linear_model import LogisticRegression\n",
    "from sklearn.model_selection import train_test_split"
   ],
   "metadata": {
    "collapsed": false,
    "ExecuteTime": {
     "end_time": "2023-12-11T12:06:06.607808800Z",
     "start_time": "2023-12-11T12:06:06.524363700Z"
    }
   },
   "id": "initial_id"
  },
  {
   "cell_type": "code",
   "execution_count": 221,
   "outputs": [],
   "source": [
    "df = pd.read_csv(\"SMSSpamCollection\", sep='\\t', names=['class', 'text'])"
   ],
   "metadata": {
    "collapsed": false,
    "ExecuteTime": {
     "end_time": "2023-12-11T12:06:06.650808700Z",
     "start_time": "2023-12-11T12:06:06.541563400Z"
    }
   },
   "id": "6656257efdcf805f"
  },
  {
   "cell_type": "code",
   "execution_count": 222,
   "outputs": [
    {
     "data": {
      "text/plain": "     class                                               text\n0      ham  Go until jurong point, crazy.. Available only ...\n1      ham                      Ok lar... Joking wif u oni...\n2     spam  Free entry in 2 a wkly comp to win FA Cup fina...\n3      ham  U dun say so early hor... U c already then say...\n4      ham  Nah I don't think he goes to usf, he lives aro...\n...    ...                                                ...\n5567  spam  This is the 2nd time we have tried 2 contact u...\n5568   ham               Will ü b going to esplanade fr home?\n5569   ham  Pity, * was in mood for that. So...any other s...\n5570   ham  The guy did some bitching but I acted like i'd...\n5571   ham                         Rofl. Its true to its name\n\n[5572 rows x 2 columns]",
      "text/html": "<div>\n<style scoped>\n    .dataframe tbody tr th:only-of-type {\n        vertical-align: middle;\n    }\n\n    .dataframe tbody tr th {\n        vertical-align: top;\n    }\n\n    .dataframe thead th {\n        text-align: right;\n    }\n</style>\n<table border=\"1\" class=\"dataframe\">\n  <thead>\n    <tr style=\"text-align: right;\">\n      <th></th>\n      <th>class</th>\n      <th>text</th>\n    </tr>\n  </thead>\n  <tbody>\n    <tr>\n      <th>0</th>\n      <td>ham</td>\n      <td>Go until jurong point, crazy.. Available only ...</td>\n    </tr>\n    <tr>\n      <th>1</th>\n      <td>ham</td>\n      <td>Ok lar... Joking wif u oni...</td>\n    </tr>\n    <tr>\n      <th>2</th>\n      <td>spam</td>\n      <td>Free entry in 2 a wkly comp to win FA Cup fina...</td>\n    </tr>\n    <tr>\n      <th>3</th>\n      <td>ham</td>\n      <td>U dun say so early hor... U c already then say...</td>\n    </tr>\n    <tr>\n      <th>4</th>\n      <td>ham</td>\n      <td>Nah I don't think he goes to usf, he lives aro...</td>\n    </tr>\n    <tr>\n      <th>...</th>\n      <td>...</td>\n      <td>...</td>\n    </tr>\n    <tr>\n      <th>5567</th>\n      <td>spam</td>\n      <td>This is the 2nd time we have tried 2 contact u...</td>\n    </tr>\n    <tr>\n      <th>5568</th>\n      <td>ham</td>\n      <td>Will ü b going to esplanade fr home?</td>\n    </tr>\n    <tr>\n      <th>5569</th>\n      <td>ham</td>\n      <td>Pity, * was in mood for that. So...any other s...</td>\n    </tr>\n    <tr>\n      <th>5570</th>\n      <td>ham</td>\n      <td>The guy did some bitching but I acted like i'd...</td>\n    </tr>\n    <tr>\n      <th>5571</th>\n      <td>ham</td>\n      <td>Rofl. Its true to its name</td>\n    </tr>\n  </tbody>\n</table>\n<p>5572 rows × 2 columns</p>\n</div>"
     },
     "execution_count": 222,
     "metadata": {},
     "output_type": "execute_result"
    }
   ],
   "source": [
    "df"
   ],
   "metadata": {
    "collapsed": false,
    "ExecuteTime": {
     "end_time": "2023-12-11T12:06:06.650808700Z",
     "start_time": "2023-12-11T12:06:06.566082100Z"
    }
   },
   "id": "561f55a402bb8a55"
  },
  {
   "cell_type": "code",
   "execution_count": 223,
   "outputs": [
    {
     "name": "stdout",
     "output_type": "stream",
     "text": [
      "Rows: 5572\n"
     ]
    }
   ],
   "source": [
    "print(f\"Rows: {df.shape[0]}\")"
   ],
   "metadata": {
    "collapsed": false,
    "ExecuteTime": {
     "end_time": "2023-12-11T12:06:06.651809300Z",
     "start_time": "2023-12-11T12:06:06.570761200Z"
    }
   },
   "id": "3e6352cd77b6875f"
  },
  {
   "cell_type": "code",
   "execution_count": 224,
   "outputs": [
    {
     "name": "stdout",
     "output_type": "stream",
     "text": [
      "<class 'pandas.core.frame.DataFrame'>\n",
      "RangeIndex: 5572 entries, 0 to 5571\n",
      "Data columns (total 2 columns):\n",
      " #   Column  Non-Null Count  Dtype \n",
      "---  ------  --------------  ----- \n",
      " 0   class   5572 non-null   object\n",
      " 1   text    5572 non-null   object\n",
      "dtypes: object(2)\n",
      "memory usage: 87.2+ KB\n"
     ]
    }
   ],
   "source": [
    "df.info()"
   ],
   "metadata": {
    "collapsed": false,
    "ExecuteTime": {
     "end_time": "2023-12-11T12:06:06.651809300Z",
     "start_time": "2023-12-11T12:06:06.573273Z"
    }
   },
   "id": "77cb1d616f58b140"
  },
  {
   "cell_type": "code",
   "execution_count": 225,
   "outputs": [
    {
     "name": "stdout",
     "output_type": "stream",
     "text": [
      "Total null values:\n",
      "class    0\n",
      "text     0\n",
      "dtype: int64\n",
      "\n",
      "Duplicated values:\n",
      "403\n"
     ]
    }
   ],
   "source": [
    "print(f'Total null values:\\n{df.isnull().sum()}')\n",
    "print(f'\\nDuplicated values:\\n{df.duplicated().sum()}')"
   ],
   "metadata": {
    "collapsed": false,
    "ExecuteTime": {
     "end_time": "2023-12-11T12:06:06.651809300Z",
     "start_time": "2023-12-11T12:06:06.579739200Z"
    }
   },
   "id": "f225c7cb159731f9"
  },
  {
   "cell_type": "code",
   "execution_count": 226,
   "outputs": [],
   "source": [
    "# Drop duplicates\n",
    "df = df.drop_duplicates()"
   ],
   "metadata": {
    "collapsed": false,
    "ExecuteTime": {
     "end_time": "2023-12-11T12:06:06.651809300Z",
     "start_time": "2023-12-11T12:06:06.586130800Z"
    }
   },
   "id": "63ef1d244801e5cc"
  },
  {
   "cell_type": "code",
   "execution_count": 227,
   "outputs": [
    {
     "name": "stdout",
     "output_type": "stream",
     "text": [
      "\n",
      "Duplicated values:\n",
      "0\n",
      "Rows:\n",
      "5169\n"
     ]
    }
   ],
   "source": [
    "print(f'\\nDuplicated values:\\n{df.duplicated().sum()}')\n",
    "print(f\"Rows:\\n{df.shape[0]}\")"
   ],
   "metadata": {
    "collapsed": false,
    "ExecuteTime": {
     "end_time": "2023-12-11T12:06:06.651809300Z",
     "start_time": "2023-12-11T12:06:06.590740700Z"
    }
   },
   "id": "f3b251850639bfc4"
  },
  {
   "cell_type": "code",
   "execution_count": 228,
   "outputs": [
    {
     "data": {
      "text/plain": "       class                                               text\ncount   5169                                               5169\nunique     2                                               5169\ntop      ham  Go until jurong point, crazy.. Available only ...\nfreq    4516                                                  1",
      "text/html": "<div>\n<style scoped>\n    .dataframe tbody tr th:only-of-type {\n        vertical-align: middle;\n    }\n\n    .dataframe tbody tr th {\n        vertical-align: top;\n    }\n\n    .dataframe thead th {\n        text-align: right;\n    }\n</style>\n<table border=\"1\" class=\"dataframe\">\n  <thead>\n    <tr style=\"text-align: right;\">\n      <th></th>\n      <th>class</th>\n      <th>text</th>\n    </tr>\n  </thead>\n  <tbody>\n    <tr>\n      <th>count</th>\n      <td>5169</td>\n      <td>5169</td>\n    </tr>\n    <tr>\n      <th>unique</th>\n      <td>2</td>\n      <td>5169</td>\n    </tr>\n    <tr>\n      <th>top</th>\n      <td>ham</td>\n      <td>Go until jurong point, crazy.. Available only ...</td>\n    </tr>\n    <tr>\n      <th>freq</th>\n      <td>4516</td>\n      <td>1</td>\n    </tr>\n  </tbody>\n</table>\n</div>"
     },
     "execution_count": 228,
     "metadata": {},
     "output_type": "execute_result"
    }
   ],
   "source": [
    "df.describe()"
   ],
   "metadata": {
    "collapsed": false,
    "ExecuteTime": {
     "end_time": "2023-12-11T12:06:06.651809300Z",
     "start_time": "2023-12-11T12:06:06.595475100Z"
    }
   },
   "id": "e93511ef91d88ea5"
  },
  {
   "cell_type": "code",
   "execution_count": 229,
   "outputs": [
    {
     "data": {
      "text/plain": "<Axes: title={'center': 'class values ratio'}, ylabel='count'>"
     },
     "execution_count": 229,
     "metadata": {},
     "output_type": "execute_result"
    },
    {
     "data": {
      "text/plain": "<Figure size 640x480 with 1 Axes>",
      "image/png": "[encoded data removed]"
     },
     "metadata": {},
     "output_type": "display_data"
    }
   ],
   "source": [
    "df['class'].value_counts().plot(kind='pie', autopct='%1.1f%%', title='class values ratio')"
   ],
   "metadata": {
    "collapsed": false,
    "ExecuteTime": {
     "end_time": "2023-12-11T12:06:06.670280200Z",
     "start_time": "2023-12-11T12:06:06.603808500Z"
    }
   },
   "id": "4074b5b2d844d175"
  },
  {
   "cell_type": "code",
   "execution_count": 230,
   "outputs": [
    {
     "name": "stdout",
     "output_type": "stream",
     "text": [
      "!\"#$%&'()*+,-./:;<=>?@[\\]^_`{|}~\n"
     ]
    }
   ],
   "source": [
    "print(string.punctuation)\n"
   ],
   "metadata": {
    "collapsed": false,
    "ExecuteTime": {
     "end_time": "2023-12-11T12:06:06.670280200Z",
     "start_time": "2023-12-11T12:06:06.665808Z"
    }
   },
   "id": "3b44fe4af9921e52"
  },
  {
   "cell_type": "code",
   "execution_count": 231,
   "outputs": [
    {
     "data": {
      "text/plain": "0       go until jurong point crazy available only in ...\n1                                 ok lar joking wif u oni\n2       free entry in 2 a wkly comp to win fa cup fina...\n3             u dun say so early hor u c already then say\n4       nah i dont think he goes to usf he lives aroun...\n                              ...                        \n5567    this is the 2nd time we have tried 2 contact u...\n5568                  will ü b going to esplanade fr home\n5569    pity  was in mood for that soany other suggest...\n5570    the guy did some bitching but i acted like id ...\n5571                            rofl its true to its name\nName: text, Length: 5169, dtype: object"
     },
     "execution_count": 231,
     "metadata": {},
     "output_type": "execute_result"
    }
   ],
   "source": [
    "# Lets prepare the data\n",
    "translator = str.maketrans('','', string.punctuation)\n",
    "df.loc[:,'text'] = df.loc[:,'text'].apply(lambda text: str(text).translate(translator).lower())\n",
    "df['text']"
   ],
   "metadata": {
    "collapsed": false,
    "ExecuteTime": {
     "end_time": "2023-12-11T12:06:06.757339Z",
     "start_time": "2023-12-11T12:06:06.669280200Z"
    }
   },
   "id": "8c7e4b6c460d9870"
  },
  {
   "cell_type": "code",
   "execution_count": 232,
   "outputs": [
    {
     "name": "stdout",
     "output_type": "stream",
     "text": [
      "<class 'pandas.core.frame.DataFrame'>\n",
      "Index: 5169 entries, 0 to 5571\n",
      "Data columns (total 2 columns):\n",
      " #   Column  Non-Null Count  Dtype \n",
      "---  ------  --------------  ----- \n",
      " 0   class   5169 non-null   int8  \n",
      " 1   text    5169 non-null   object\n",
      "dtypes: int8(1), object(1)\n",
      "memory usage: 85.8+ KB\n"
     ]
    },
    {
     "data": {
      "text/plain": "0      -1\n1      -1\n2       1\n3      -1\n4      -1\n       ..\n5567    1\n5568   -1\n5569   -1\n5570   -1\n5571   -1\nName: class, Length: 5169, dtype: int8"
     },
     "execution_count": 232,
     "metadata": {},
     "output_type": "execute_result"
    }
   ],
   "source": [
    "df.loc[:,'class'] = df.loc[:, 'class'].replace(['ham', 'spam'], [-1, 1])\n",
    "# 1 => spam; -1 => ham\n",
    "df = df.astype({\"class\" : 'int8'})\n",
    "df.info()\n",
    "df['class']"
   ],
   "metadata": {
    "collapsed": false,
    "ExecuteTime": {
     "end_time": "2023-12-11T12:06:06.757339Z",
     "start_time": "2023-12-11T12:06:06.686399500Z"
    }
   },
   "id": "f58bec586ff24d3"
  },
  {
   "cell_type": "code",
   "execution_count": 244,
   "outputs": [],
   "source": [
    "vectorizer = CountVectorizer()\n",
    "\n",
    "X_train, X_test, y_train, y_test = train_test_split(df['text'], df['class'], test_size=0.3, random_state=17)"
   ],
   "metadata": {
    "collapsed": false,
    "ExecuteTime": {
     "end_time": "2023-12-11T12:09:48.449972Z",
     "start_time": "2023-12-11T12:09:48.436661900Z"
    }
   },
   "id": "dcb8f492205277fe"
  },
  {
   "cell_type": "code",
   "execution_count": 243,
   "outputs": [
    {
     "data": {
      "text/plain": "3031    also sir i sent you an email about how to log ...\n4211    no dahe is stupid daalways sending like thisdo...\n2581    u are subscribed to the best mobile content se...\n798     petey boy whereare you me and all your friends...\n2893    babe you said 2 hours and its been almost 4  i...\n                              ...                        \n2942    my supervisor find 4 me one lor i thk his stud...\n1377             auntie huai juan never pick up her phone\n413     okies ill go yan jiu too we can skip ard oso g...\n2281                            r ü comin back for dinner\n2801    housemaid is the murderer coz the man was murd...\nName: text, Length: 3618, dtype: object"
     },
     "execution_count": 243,
     "metadata": {},
     "output_type": "execute_result"
    }
   ],
   "source": [
    "X_train"
   ],
   "metadata": {
    "collapsed": false,
    "ExecuteTime": {
     "end_time": "2023-12-11T12:09:47.723957800Z",
     "start_time": "2023-12-11T12:09:47.708871600Z"
    }
   },
   "id": "66ba1759419f1e04"
  },
  {
   "cell_type": "code",
   "execution_count": 245,
   "outputs": [
    {
     "name": "stdout",
     "output_type": "stream",
     "text": [
      "3031   -1\n",
      "4211   -1\n",
      "2581    1\n",
      "798    -1\n",
      "2893   -1\n",
      "       ..\n",
      "2942   -1\n",
      "1377   -1\n",
      "413    -1\n",
      "2281   -1\n",
      "2801   -1\n",
      "Name: class, Length: 3618, dtype: int8\n"
     ]
    }
   ],
   "source": [
    "print(y_train)\n",
    "# y_train_new_index = y_train.reset_index()['class']"
   ],
   "metadata": {
    "collapsed": false,
    "ExecuteTime": {
     "end_time": "2023-12-11T12:09:49.359579600Z",
     "start_time": "2023-12-11T12:09:49.347319700Z"
    }
   },
   "id": "3f2ae38dadc479a7"
  },
  {
   "cell_type": "code",
   "execution_count": 246,
   "outputs": [],
   "source": [
    "X_train = vectorizer.fit_transform(X_train.astype('U'))\n",
    "X_test = vectorizer.transform(X_test.astype('U'))"
   ],
   "metadata": {
    "collapsed": false,
    "ExecuteTime": {
     "end_time": "2023-12-11T12:09:50.470851100Z",
     "start_time": "2023-12-11T12:09:50.411221600Z"
    }
   },
   "id": "c08dd4a35a0d7871"
  },
  {
   "cell_type": "code",
   "execution_count": 247,
   "outputs": [
    {
     "name": "stdout",
     "output_type": "stream",
     "text": [
      "  (0, 868)\t1\n",
      "  (0, 5992)\t1\n",
      "  (0, 5838)\t1\n",
      "  (0, 7542)\t2\n",
      "  (0, 894)\t1\n",
      "  (0, 2452)\t1\n",
      "  (0, 705)\t1\n",
      "  (0, 3381)\t2\n",
      "  (0, 6740)\t1\n",
      "  (0, 4039)\t1\n",
      "  (0, 3574)\t1\n",
      "  (0, 6615)\t1\n",
      "  (0, 7008)\t1\n",
      "  (0, 4980)\t1\n",
      "  (0, 5163)\t1\n",
      "  (0, 3478)\t1\n",
      "  (0, 5831)\t1\n",
      "  (0, 916)\t1\n",
      "  (0, 4316)\t1\n",
      "  (0, 6609)\t1\n",
      "  (0, 5937)\t1\n",
      "  (0, 2589)\t1\n",
      "  (0, 6652)\t1\n",
      "  (0, 982)\t1\n",
      "  (0, 1131)\t1\n",
      "  (0, 3337)\t1\n",
      "  (0, 3199)\t1\n",
      "  (0, 3088)\t1\n",
      "  (0, 7228)\t1\n"
     ]
    }
   ],
   "source": [
    "print(X_train[0])"
   ],
   "metadata": {
    "collapsed": false,
    "ExecuteTime": {
     "end_time": "2023-12-11T12:09:51.055281200Z",
     "start_time": "2023-12-11T12:09:51.040552600Z"
    }
   },
   "id": "74729cb68a9c490b"
  },
  {
   "cell_type": "code",
   "execution_count": 248,
   "outputs": [
    {
     "name": "stderr",
     "output_type": "stream",
     "text": [
      "D:\\Anaconda\\Lib\\site-packages\\sklearn\\utils\\validation.py:605: FutureWarning: is_sparse is deprecated and will be removed in a future version. Check `isinstance(dtype, pd.SparseDtype)` instead.\n",
      "  if is_sparse(pd_dtype):\n",
      "D:\\Anaconda\\Lib\\site-packages\\sklearn\\utils\\validation.py:614: FutureWarning: is_sparse is deprecated and will be removed in a future version. Check `isinstance(dtype, pd.SparseDtype)` instead.\n",
      "  if is_sparse(pd_dtype) or not is_extension_array_dtype(pd_dtype):\n",
      "[Parallel(n_jobs=4)]: Using backend LokyBackend with 4 concurrent workers.\n",
      "[Parallel(n_jobs=4)]: Done   1 out of   1 | elapsed:    0.0s finished\n"
     ]
    },
    {
     "data": {
      "text/plain": "LogisticRegression(n_jobs=4, verbose=1)",
      "text/html": "<style>#sk-container-id-6 {color: black;background-color: white;}#sk-container-id-6 pre{padding: 0;}#sk-container-id-6 div.sk-toggleable {background-color: white;}#sk-container-id-6 label.sk-toggleable__label {cursor: pointer;display: block;width: 100%;margin-bottom: 0;padding: 0.3em;box-sizing: border-box;text-align: center;}#sk-container-id-6 label.sk-toggleable__label-arrow:before {content: \"▸\";float: left;margin-right: 0.25em;color: #696969;}#sk-container-id-6 label.sk-toggleable__label-arrow:hover:before {color: black;}#sk-container-id-6 div.sk-estimator:hover label.sk-toggleable__label-arrow:before {color: black;}#sk-container-id-6 div.sk-toggleable__content {max-height: 0;max-width: 0;overflow: hidden;text-align: left;background-color: #f0f8ff;}#sk-container-id-6 div.sk-toggleable__content pre {margin: 0.2em;color: black;border-radius: 0.25em;background-color: #f0f8ff;}#sk-container-id-6 input.sk-toggleable__control:checked~div.sk-toggleable__content {max-height: 200px;max-width: 100%;overflow: auto;}#sk-container-id-6 input.sk-toggleable__control:checked~label.sk-toggleable__label-arrow:before {content: \"▾\";}#sk-container-id-6 div.sk-estimator input.sk-toggleable__control:checked~label.sk-toggleable__label {background-color: #d4ebff;}#sk-container-id-6 div.sk-label input.sk-toggleable__control:checked~label.sk-toggleable__label {background-color: #d4ebff;}#sk-container-id-6 input.sk-hidden--visually {border: 0;clip: rect(1px 1px 1px 1px);clip: rect(1px, 1px, 1px, 1px);height: 1px;margin: -1px;overflow: hidden;padding: 0;position: absolute;width: 1px;}#sk-container-id-6 div.sk-estimator {font-family: monospace;background-color: #f0f8ff;border: 1px dotted black;border-radius: 0.25em;box-sizing: border-box;margin-bottom: 0.5em;}#sk-container-id-6 div.sk-estimator:hover {background-color: #d4ebff;}#sk-container-id-6 div.sk-parallel-item::after {content: \"\";width: 100%;border-bottom: 1px solid gray;flex-grow: 1;}#sk-container-id-6 div.sk-label:hover label.sk-toggleable__label {background-color: #d4ebff;}#sk-container-id-6 div.sk-serial::before {content: \"\";position: absolute;border-left: 1px solid gray;box-sizing: border-box;top: 0;bottom: 0;left: 50%;z-index: 0;}#sk-container-id-6 div.sk-serial {display: flex;flex-direction: column;align-items: center;background-color: white;padding-right: 0.2em;padding-left: 0.2em;position: relative;}#sk-container-id-6 div.sk-item {position: relative;z-index: 1;}#sk-container-id-6 div.sk-parallel {display: flex;align-items: stretch;justify-content: center;background-color: white;position: relative;}#sk-container-id-6 div.sk-item::before, #sk-container-id-6 div.sk-parallel-item::before {content: \"\";position: absolute;border-left: 1px solid gray;box-sizing: border-box;top: 0;bottom: 0;left: 50%;z-index: -1;}#sk-container-id-6 div.sk-parallel-item {display: flex;flex-direction: column;z-index: 1;position: relative;background-color: white;}#sk-container-id-6 div.sk-parallel-item:first-child::after {align-self: flex-end;width: 50%;}#sk-container-id-6 div.sk-parallel-item:last-child::after {align-self: flex-start;width: 50%;}#sk-container-id-6 div.sk-parallel-item:only-child::after {width: 0;}#sk-container-id-6 div.sk-dashed-wrapped {border: 1px dashed gray;margin: 0 0.4em 0.5em 0.4em;box-sizing: border-box;padding-bottom: 0.4em;background-color: white;}#sk-container-id-6 div.sk-label label {font-family: monospace;font-weight: bold;display: inline-block;line-height: 1.2em;}#sk-container-id-6 div.sk-label-container {text-align: center;}#sk-container-id-6 div.sk-container {/* jupyter's `normalize.less` sets `[hidden] { display: none; }` but bootstrap.min.css set `[hidden] { display: none !important; }` so we also need the `!important` here to be able to override the default hidden behavior on the sphinx rendered scikit-learn.org. See: https://github.com/scikit-learn/scikit-learn/issues/21755 */display: inline-block !important;position: relative;}#sk-container-id-6 div.sk-text-repr-fallback {display: none;}</style><div id=\"sk-container-id-6\" class=\"sk-top-container\"><div class=\"sk-text-repr-fallback\"><pre>LogisticRegression(n_jobs=4, verbose=1)</pre><b>In a Jupyter environment, please rerun this cell to show the HTML representation or trust the notebook. <br />On GitHub, the HTML representation is unable to render, please try loading this page with nbviewer.org.</b></div><div class=\"sk-container\" hidden><div class=\"sk-item\"><div class=\"sk-estimator sk-toggleable\"><input class=\"sk-toggleable__control sk-hidden--visually\" id=\"sk-estimator-id-6\" type=\"checkbox\" checked><label for=\"sk-estimator-id-6\" class=\"sk-toggleable__label sk-toggleable__label-arrow\">LogisticRegression</label><div class=\"sk-toggleable__content\"><pre>LogisticRegression(n_jobs=4, verbose=1)</pre></div></div></div></div></div>"
     },
     "execution_count": 248,
     "metadata": {},
     "output_type": "execute_result"
    }
   ],
   "source": [
    "model = LogisticRegression(max_iter=100, verbose=1, n_jobs=4)\n",
    "model.fit(X_train, y_train)"
   ],
   "metadata": {
    "collapsed": false,
    "ExecuteTime": {
     "end_time": "2023-12-11T12:09:53.115052300Z",
     "start_time": "2023-12-11T12:09:53.072577400Z"
    }
   },
   "id": "8cd5e7c4870e57f1"
  },
  {
   "cell_type": "code",
   "execution_count": 249,
   "outputs": [
    {
     "name": "stdout",
     "output_type": "stream",
     "text": [
      "Model accuracy: 0.9819471308833011\n"
     ]
    }
   ],
   "source": [
    "y_pred = model.predict(X_test)\n",
    "print(f'Model accuracy: {sum([1 for x, y in zip(y_pred, y_test) if x == y]) / X_test.shape[0]}')"
   ],
   "metadata": {
    "collapsed": false,
    "ExecuteTime": {
     "end_time": "2023-12-11T12:09:54.823644100Z",
     "start_time": "2023-12-11T12:09:54.812232700Z"
    }
   },
   "id": "2bd7db0c2c21cce9"
  },
  {
   "cell_type": "code",
   "execution_count": 250,
   "outputs": [
    {
     "name": "stdout",
     "output_type": "stream",
     "text": [
      "[[ 0.14621164  0.33208664  0.00194342 ... -0.00077729  0.26702066\n",
      "  -0.00879008]]\n",
      "\n",
      "Top 12 words connected to spam:\n",
      "['mobile' 'free' 'text' 'real' 'ringtone' 'txt' 'message' 'won' 'stop'\n",
      " 'chat' 'call' 'reply']\n"
     ]
    }
   ],
   "source": [
    "# Words connected with spam\n",
    "print(model.coef_)\n",
    "N_words = 12\n",
    "top_spam_index = np.argpartition(model.coef_[0], -N_words)[-N_words:]\n",
    "\n",
    "top_spam_words = vectorizer.get_feature_names_out()[top_spam_index]\n",
    "\n",
    "print(f'\\nTop {N_words} words connected to spam:\\n{top_spam_words}')"
   ],
   "metadata": {
    "collapsed": false,
    "ExecuteTime": {
     "end_time": "2023-12-11T12:09:56.169492500Z",
     "start_time": "2023-12-11T12:09:56.147670500Z"
    }
   },
   "id": "3d83f9ccfeda75f1"
  },
  {
   "cell_type": "code",
   "execution_count": 251,
   "outputs": [
    {
     "data": {
      "text/plain": "array([[9.10735591e-01, 8.92644086e-02],\n       [9.98128565e-01, 1.87143462e-03],\n       [9.84199723e-01, 1.58002767e-02],\n       ...,\n       [9.98501912e-01, 1.49808776e-03],\n       [9.83221559e-01, 1.67784409e-02],\n       [9.99309673e-01, 6.90326542e-04]])"
     },
     "execution_count": 251,
     "metadata": {},
     "output_type": "execute_result"
    }
   ],
   "source": [
    "result = model.predict_proba(X_test)\n",
    "result"
   ],
   "metadata": {
    "collapsed": false,
    "ExecuteTime": {
     "end_time": "2023-12-11T12:09:57.964052900Z",
     "start_time": "2023-12-11T12:09:57.952272200Z"
    }
   },
   "id": "883550d1fb39468c"
  },
  {
   "cell_type": "code",
   "execution_count": 269,
   "outputs": [
    {
     "name": "stdout",
     "output_type": "stream",
     "text": [
      "Messages with the highest probability to be a spam:\n",
      "\n",
      "\n",
      "we tried to contact you re your reply to our offer of 750 mins 150 textand a new video phone call 08002988890 now or reply for free delivery tomorrow\n",
      "\n",
      "free unlimited hardcore porn direct 2 your mobile txt porn to 69200  get free access for 24 hrs then chrgd50p per day txt stop 2exit this msg is free\n",
      "\n",
      "married local women looking for discreet action now 5 real matches instantly to your phone text match to 69969 msg cost 150p 2 stop txt stop bcmsfwc1n3xx\n",
      "\n",
      "we tried to call you re your reply to our sms for a video mobile 750 mins unlimited text  free camcorder reply of call 08000930705 now\n",
      "\n",
      "free ringtone text first to 87131 for a poly or text get to 87131 for a true tone help 0845 2814032 16 after 1st free tones are 3x£150pw to e£nd txt stop\n",
      "\n",
      "you have won a guaranteed £1000 cash or a £2000 prize to claim yr prize call our customer service representative on 08714712412 between 10am7pm cost 10p\n"
     ]
    }
   ],
   "source": [
    "N_spamSms = 6\n",
    "spam_prob = result[:,1]\n",
    "\n",
    "y_test_index = y_test.reset_index()\n",
    "spam_messages_id = y_test_index['index'][np.argpartition(spam_prob, -N_spamSms)[-N_spamSms:]]\n",
    "spam_messages = df.loc[spam_messages_id,'text']\n",
    "\n",
    "print(\"Messages with the highest probability to be a spam:\\n\")\n",
    "for spam in np.array(spam_messages):\n",
    "    print(f'\\n{spam}')"
   ],
   "metadata": {
    "collapsed": false,
    "ExecuteTime": {
     "end_time": "2023-12-11T12:18:43.411903500Z",
     "start_time": "2023-12-11T12:18:43.402388Z"
    }
   },
   "id": "e1803ed73dbe5ba9"
  },
  {
   "cell_type": "code",
   "execution_count": 309,
   "outputs": [
    {
     "data": {
      "text/plain": "<3618x22 sparse matrix of type '<class 'numpy.int64'>'\n\twith 1035 stored elements in Compressed Sparse Row format>"
     },
     "execution_count": 309,
     "metadata": {},
     "output_type": "execute_result"
    }
   ],
   "source": [
    "spam_words = ['won', 'win', 'free', 'claim', 'access', 'call', 'received', 'porn', 'local', 'text', 'txt', 'apply', 'award', 'awarded', 'congrats', 'congratulations', 'winner', 'important', 'urgent', 'reply', 'rply', 'contact']\n",
    "\n",
    "X_train, X_test, y_train, y_test = train_test_split(df['text'], df['class'], test_size=0.3, random_state=17)\n",
    "\n",
    "simplified_vectorizer = CountVectorizer(vocabulary=spam_words)\n",
    "X_train = simplified_vectorizer.fit_transform(X_train.astype('U'))\n",
    "X_test = simplified_vectorizer.transform(X_test.astype('U'))\n",
    "\n",
    "X_train"
   ],
   "metadata": {
    "collapsed": false,
    "ExecuteTime": {
     "end_time": "2023-12-11T12:29:34.349972Z",
     "start_time": "2023-12-11T12:29:34.289681800Z"
    }
   },
   "id": "b0fdffd63d37ac66"
  },
  {
   "cell_type": "code",
   "execution_count": 310,
   "outputs": [
    {
     "name": "stderr",
     "output_type": "stream",
     "text": [
      "D:\\Anaconda\\Lib\\site-packages\\sklearn\\utils\\validation.py:605: FutureWarning: is_sparse is deprecated and will be removed in a future version. Check `isinstance(dtype, pd.SparseDtype)` instead.\n",
      "  if is_sparse(pd_dtype):\n",
      "D:\\Anaconda\\Lib\\site-packages\\sklearn\\utils\\validation.py:614: FutureWarning: is_sparse is deprecated and will be removed in a future version. Check `isinstance(dtype, pd.SparseDtype)` instead.\n",
      "  if is_sparse(pd_dtype) or not is_extension_array_dtype(pd_dtype):\n",
      "[Parallel(n_jobs=4)]: Using backend LokyBackend with 4 concurrent workers.\n",
      "[Parallel(n_jobs=4)]: Done   1 out of   1 | elapsed:    0.0s finished\n"
     ]
    },
    {
     "data": {
      "text/plain": "LogisticRegression(n_jobs=4, verbose=1)",
      "text/html": "<style>#sk-container-id-20 {color: black;background-color: white;}#sk-container-id-20 pre{padding: 0;}#sk-container-id-20 div.sk-toggleable {background-color: white;}#sk-container-id-20 label.sk-toggleable__label {cursor: pointer;display: block;width: 100%;margin-bottom: 0;padding: 0.3em;box-sizing: border-box;text-align: center;}#sk-container-id-20 label.sk-toggleable__label-arrow:before {content: \"▸\";float: left;margin-right: 0.25em;color: #696969;}#sk-container-id-20 label.sk-toggleable__label-arrow:hover:before {color: black;}#sk-container-id-20 div.sk-estimator:hover label.sk-toggleable__label-arrow:before {color: black;}#sk-container-id-20 div.sk-toggleable__content {max-height: 0;max-width: 0;overflow: hidden;text-align: left;background-color: #f0f8ff;}#sk-container-id-20 div.sk-toggleable__content pre {margin: 0.2em;color: black;border-radius: 0.25em;background-color: #f0f8ff;}#sk-container-id-20 input.sk-toggleable__control:checked~div.sk-toggleable__content {max-height: 200px;max-width: 100%;overflow: auto;}#sk-container-id-20 input.sk-toggleable__control:checked~label.sk-toggleable__label-arrow:before {content: \"▾\";}#sk-container-id-20 div.sk-estimator input.sk-toggleable__control:checked~label.sk-toggleable__label {background-color: #d4ebff;}#sk-container-id-20 div.sk-label input.sk-toggleable__control:checked~label.sk-toggleable__label {background-color: #d4ebff;}#sk-container-id-20 input.sk-hidden--visually {border: 0;clip: rect(1px 1px 1px 1px);clip: rect(1px, 1px, 1px, 1px);height: 1px;margin: -1px;overflow: hidden;padding: 0;position: absolute;width: 1px;}#sk-container-id-20 div.sk-estimator {font-family: monospace;background-color: #f0f8ff;border: 1px dotted black;border-radius: 0.25em;box-sizing: border-box;margin-bottom: 0.5em;}#sk-container-id-20 div.sk-estimator:hover {background-color: #d4ebff;}#sk-container-id-20 div.sk-parallel-item::after {content: \"\";width: 100%;border-bottom: 1px solid gray;flex-grow: 1;}#sk-container-id-20 div.sk-label:hover label.sk-toggleable__label {background-color: #d4ebff;}#sk-container-id-20 div.sk-serial::before {content: \"\";position: absolute;border-left: 1px solid gray;box-sizing: border-box;top: 0;bottom: 0;left: 50%;z-index: 0;}#sk-container-id-20 div.sk-serial {display: flex;flex-direction: column;align-items: center;background-color: white;padding-right: 0.2em;padding-left: 0.2em;position: relative;}#sk-container-id-20 div.sk-item {position: relative;z-index: 1;}#sk-container-id-20 div.sk-parallel {display: flex;align-items: stretch;justify-content: center;background-color: white;position: relative;}#sk-container-id-20 div.sk-item::before, #sk-container-id-20 div.sk-parallel-item::before {content: \"\";position: absolute;border-left: 1px solid gray;box-sizing: border-box;top: 0;bottom: 0;left: 50%;z-index: -1;}#sk-container-id-20 div.sk-parallel-item {display: flex;flex-direction: column;z-index: 1;position: relative;background-color: white;}#sk-container-id-20 div.sk-parallel-item:first-child::after {align-self: flex-end;width: 50%;}#sk-container-id-20 div.sk-parallel-item:last-child::after {align-self: flex-start;width: 50%;}#sk-container-id-20 div.sk-parallel-item:only-child::after {width: 0;}#sk-container-id-20 div.sk-dashed-wrapped {border: 1px dashed gray;margin: 0 0.4em 0.5em 0.4em;box-sizing: border-box;padding-bottom: 0.4em;background-color: white;}#sk-container-id-20 div.sk-label label {font-family: monospace;font-weight: bold;display: inline-block;line-height: 1.2em;}#sk-container-id-20 div.sk-label-container {text-align: center;}#sk-container-id-20 div.sk-container {/* jupyter's `normalize.less` sets `[hidden] { display: none; }` but bootstrap.min.css set `[hidden] { display: none !important; }` so we also need the `!important` here to be able to override the default hidden behavior on the sphinx rendered scikit-learn.org. See: https://github.com/scikit-learn/scikit-learn/issues/21755 */display: inline-block !important;position: relative;}#sk-container-id-20 div.sk-text-repr-fallback {display: none;}</style><div id=\"sk-container-id-20\" class=\"sk-top-container\"><div class=\"sk-text-repr-fallback\"><pre>LogisticRegression(n_jobs=4, verbose=1)</pre><b>In a Jupyter environment, please rerun this cell to show the HTML representation or trust the notebook. <br />On GitHub, the HTML representation is unable to render, please try loading this page with nbviewer.org.</b></div><div class=\"sk-container\" hidden><div class=\"sk-item\"><div class=\"sk-estimator sk-toggleable\"><input class=\"sk-toggleable__control sk-hidden--visually\" id=\"sk-estimator-id-20\" type=\"checkbox\" checked><label for=\"sk-estimator-id-20\" class=\"sk-toggleable__label sk-toggleable__label-arrow\">LogisticRegression</label><div class=\"sk-toggleable__content\"><pre>LogisticRegression(n_jobs=4, verbose=1)</pre></div></div></div></div></div>"
     },
     "execution_count": 310,
     "metadata": {},
     "output_type": "execute_result"
    }
   ],
   "source": [
    "simple_model = LogisticRegression(max_iter=100, verbose=1, n_jobs=4)\n",
    "simple_model.fit(X_train, y_train)"
   ],
   "metadata": {
    "collapsed": false,
    "ExecuteTime": {
     "end_time": "2023-12-11T12:29:35.725827300Z",
     "start_time": "2023-12-11T12:29:35.713100Z"
    }
   },
   "id": "79509f66813cac4b"
  },
  {
   "cell_type": "code",
   "execution_count": 311,
   "outputs": [
    {
     "name": "stdout",
     "output_type": "stream",
     "text": [
      "Model accuracy: 0.9439071566731141\n"
     ]
    }
   ],
   "source": [
    "y_pred = simple_model.predict(X_test)\n",
    "print(f'Model accuracy: {sum([1 for x, y in zip(y_pred, y_test) if x == y]) / X_test.shape[0]}')"
   ],
   "metadata": {
    "collapsed": false,
    "ExecuteTime": {
     "end_time": "2023-12-11T12:29:37.353116900Z",
     "start_time": "2023-12-11T12:29:37.341462600Z"
    }
   },
   "id": "cfa497fa93ee365"
  },
  {
   "cell_type": "code",
   "execution_count": 312,
   "outputs": [
    {
     "name": "stdout",
     "output_type": "stream",
     "text": [
      "won\t\t\t : \t\t\t 2.0330568260060162\n",
      "win\t\t\t : \t\t\t 2.1862450205660204\n",
      "free\t\t\t : \t\t\t 2.005520709870025\n",
      "claim\t\t\t : \t\t\t 2.95829783886677\n",
      "access\t\t\t : \t\t\t 0.7486640253153616\n",
      "call\t\t\t : \t\t\t 2.389946447972013\n",
      "received\t\t\t : \t\t\t 0.7736044934563674\n",
      "porn\t\t\t : \t\t\t 0.06385604619416421\n",
      "local\t\t\t : \t\t\t 1.0510253767097568\n",
      "text\t\t\t : \t\t\t 2.02835909178368\n",
      "txt\t\t\t : \t\t\t 3.883077393500616\n",
      "apply\t\t\t : \t\t\t 1.719753670984005\n",
      "award\t\t\t : \t\t\t 1.1766603445785468\n",
      "awarded\t\t\t : \t\t\t 1.4089096413958868\n",
      "congrats\t\t\t : \t\t\t 0.5999765387045786\n",
      "congratulations\t\t\t : \t\t\t 0.15125010984367998\n",
      "winner\t\t\t : \t\t\t 1.423192528827322\n",
      "important\t\t\t : \t\t\t 1.3407776080079141\n",
      "urgent\t\t\t : \t\t\t 2.493976148632724\n",
      "reply\t\t\t : \t\t\t 2.313365394846526\n",
      "rply\t\t\t : \t\t\t 1.9519033338139646\n",
      "contact\t\t\t : \t\t\t 1.899499117633675\n"
     ]
    }
   ],
   "source": [
    "# spam words\n",
    "for name, weight in zip(spam_words, simple_model.coef_[0]):\n",
    "    print(f'{name}\\t\\t\\t : \\t\\t\\t {weight}')"
   ],
   "metadata": {
    "collapsed": false,
    "ExecuteTime": {
     "end_time": "2023-12-11T12:30:21.059912600Z",
     "start_time": "2023-12-11T12:30:21.049400100Z"
    }
   },
   "id": "5130b91a6d3fb117"
  },
  {
   "cell_type": "markdown",
   "source": [
    "## As a result, it is not that hard to identify spam messages, because majority of them are connected with either winning something, getting it for free or any sort of porn/sexual contacts."
   ],
   "metadata": {
    "collapsed": false
   },
   "id": "aba0f5ec99a84910"
  }
 ],
 "metadata": {
  "kernelspec": {
   "display_name": "Python 3",
   "language": "python",
   "name": "python3"
  },
  "language_info": {
   "codemirror_mode": {
    "name": "ipython",
    "version": 2
   },
   "file_extension": ".py",
   "mimetype": "text/x-python",
   "name": "python",
   "nbconvert_exporter": "python",
   "pygments_lexer": "ipython2",
   "version": "2.7.6"
  }
 },
 "nbformat": 4,
 "nbformat_minor": 5
}
