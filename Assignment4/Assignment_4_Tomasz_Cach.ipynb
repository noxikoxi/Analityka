{
 "cells": [
  {
   "cell_type": "markdown",
   "metadata": {},
   "source": [
    "### Today we are going to perform the simple classification of the amazon reviews' sentiment.\n",
    "\n",
    "### Please, download the dataset amazon_baby.csv."
   ]
  },
  {
   "cell_type": "code",
   "execution_count": 332,
   "metadata": {
    "collapsed": false,
    "ExecuteTime": {
     "end_time": "2023-12-08T16:23:30.275687Z",
     "start_time": "2023-12-08T16:23:30.217726800Z"
    }
   },
   "outputs": [],
   "source": [
    "import pandas as pd\n",
    "import numpy as np\n",
    "from sklearn.linear_model import LogisticRegression\n",
    "from sklearn.model_selection import train_test_split\n",
    "\n",
    "def remove_punctuation(text):\n",
    "    import string\n",
    "    translator = str.maketrans('', '', string.punctuation)\n",
    "    return text.translate(translator)"
   ]
  },
  {
   "cell_type": "code",
   "execution_count": 333,
   "outputs": [
    {
     "data": {
      "text/plain": "                                                name  \\\n0                           Planetwise Flannel Wipes   \n1                              Planetwise Wipe Pouch   \n2                Annas Dream Full Quilt with 2 Shams   \n3  Stop Pacifier Sucking without tears with Thumb...   \n4  Stop Pacifier Sucking without tears with Thumb...   \n\n                                              review  rating  \n0  These flannel wipes are OK, but in my opinion ...       3  \n1  it came early and was not disappointed. i love...       5  \n2  Very soft and comfortable and warmer than it l...       5  \n3  This is a product well worth the purchase.  I ...       5  \n4  All of my kids have cried non-stop when I trie...       5  ",
      "text/html": "<div>\n<style scoped>\n    .dataframe tbody tr th:only-of-type {\n        vertical-align: middle;\n    }\n\n    .dataframe tbody tr th {\n        vertical-align: top;\n    }\n\n    .dataframe thead th {\n        text-align: right;\n    }\n</style>\n<table border=\"1\" class=\"dataframe\">\n  <thead>\n    <tr style=\"text-align: right;\">\n      <th></th>\n      <th>name</th>\n      <th>review</th>\n      <th>rating</th>\n    </tr>\n  </thead>\n  <tbody>\n    <tr>\n      <th>0</th>\n      <td>Planetwise Flannel Wipes</td>\n      <td>These flannel wipes are OK, but in my opinion ...</td>\n      <td>3</td>\n    </tr>\n    <tr>\n      <th>1</th>\n      <td>Planetwise Wipe Pouch</td>\n      <td>it came early and was not disappointed. i love...</td>\n      <td>5</td>\n    </tr>\n    <tr>\n      <th>2</th>\n      <td>Annas Dream Full Quilt with 2 Shams</td>\n      <td>Very soft and comfortable and warmer than it l...</td>\n      <td>5</td>\n    </tr>\n    <tr>\n      <th>3</th>\n      <td>Stop Pacifier Sucking without tears with Thumb...</td>\n      <td>This is a product well worth the purchase.  I ...</td>\n      <td>5</td>\n    </tr>\n    <tr>\n      <th>4</th>\n      <td>Stop Pacifier Sucking without tears with Thumb...</td>\n      <td>All of my kids have cried non-stop when I trie...</td>\n      <td>5</td>\n    </tr>\n  </tbody>\n</table>\n</div>"
     },
     "execution_count": 333,
     "metadata": {},
     "output_type": "execute_result"
    }
   ],
   "source": [
    "baby_df = pd.read_csv('amazon_baby.csv')\n",
    "baby_df.head()"
   ],
   "metadata": {
    "collapsed": false,
    "ExecuteTime": {
     "end_time": "2023-12-08T16:23:30.889930400Z",
     "start_time": "2023-12-08T16:23:30.220239Z"
    }
   }
  },
  {
   "cell_type": "code",
   "execution_count": 334,
   "outputs": [
    {
     "data": {
      "text/plain": "                                                     name  \\\n0                                Planetwise Flannel Wipes   \n1                                   Planetwise Wipe Pouch   \n2                     Annas Dream Full Quilt with 2 Shams   \n3       Stop Pacifier Sucking without tears with Thumb...   \n4       Stop Pacifier Sucking without tears with Thumb...   \n...                                                   ...   \n183526  Baby Teething Necklace for Mom Pretty Donut Sh...   \n183527  Baby Teething Necklace for Mom Pretty Donut Sh...   \n183528   Abstract 2 PK Baby / Toddler Training Cup (Pink)   \n183529  Baby Food Freezer Tray - Bacteria Resistant, B...   \n183530  Best 2 Pack Baby Car Shade for Kids - Window S...   \n\n                                                   review  rating  \n0       These flannel wipes are OK, but in my opinion ...       3  \n1       it came early and was not disappointed. i love...       5  \n2       Very soft and comfortable and warmer than it l...       5  \n3       This is a product well worth the purchase.  I ...       5  \n4       All of my kids have cried non-stop when I trie...       5  \n...                                                   ...     ...  \n183526  Such a great idea! very handy to have and look...       5  \n183527  This product rocks!  It is a great blend of fu...       5  \n183528  This item looks great and cool for my kids.......       5  \n183529  I am extremely happy with this product. I have...       5  \n183530  I love this product very mush . I have bought ...       5  \n\n[183531 rows x 3 columns]",
      "text/html": "<div>\n<style scoped>\n    .dataframe tbody tr th:only-of-type {\n        vertical-align: middle;\n    }\n\n    .dataframe tbody tr th {\n        vertical-align: top;\n    }\n\n    .dataframe thead th {\n        text-align: right;\n    }\n</style>\n<table border=\"1\" class=\"dataframe\">\n  <thead>\n    <tr style=\"text-align: right;\">\n      <th></th>\n      <th>name</th>\n      <th>review</th>\n      <th>rating</th>\n    </tr>\n  </thead>\n  <tbody>\n    <tr>\n      <th>0</th>\n      <td>Planetwise Flannel Wipes</td>\n      <td>These flannel wipes are OK, but in my opinion ...</td>\n      <td>3</td>\n    </tr>\n    <tr>\n      <th>1</th>\n      <td>Planetwise Wipe Pouch</td>\n      <td>it came early and was not disappointed. i love...</td>\n      <td>5</td>\n    </tr>\n    <tr>\n      <th>2</th>\n      <td>Annas Dream Full Quilt with 2 Shams</td>\n      <td>Very soft and comfortable and warmer than it l...</td>\n      <td>5</td>\n    </tr>\n    <tr>\n      <th>3</th>\n      <td>Stop Pacifier Sucking without tears with Thumb...</td>\n      <td>This is a product well worth the purchase.  I ...</td>\n      <td>5</td>\n    </tr>\n    <tr>\n      <th>4</th>\n      <td>Stop Pacifier Sucking without tears with Thumb...</td>\n      <td>All of my kids have cried non-stop when I trie...</td>\n      <td>5</td>\n    </tr>\n    <tr>\n      <th>...</th>\n      <td>...</td>\n      <td>...</td>\n      <td>...</td>\n    </tr>\n    <tr>\n      <th>183526</th>\n      <td>Baby Teething Necklace for Mom Pretty Donut Sh...</td>\n      <td>Such a great idea! very handy to have and look...</td>\n      <td>5</td>\n    </tr>\n    <tr>\n      <th>183527</th>\n      <td>Baby Teething Necklace for Mom Pretty Donut Sh...</td>\n      <td>This product rocks!  It is a great blend of fu...</td>\n      <td>5</td>\n    </tr>\n    <tr>\n      <th>183528</th>\n      <td>Abstract 2 PK Baby / Toddler Training Cup (Pink)</td>\n      <td>This item looks great and cool for my kids.......</td>\n      <td>5</td>\n    </tr>\n    <tr>\n      <th>183529</th>\n      <td>Baby Food Freezer Tray - Bacteria Resistant, B...</td>\n      <td>I am extremely happy with this product. I have...</td>\n      <td>5</td>\n    </tr>\n    <tr>\n      <th>183530</th>\n      <td>Best 2 Pack Baby Car Shade for Kids - Window S...</td>\n      <td>I love this product very mush . I have bought ...</td>\n      <td>5</td>\n    </tr>\n  </tbody>\n</table>\n<p>183531 rows × 3 columns</p>\n</div>"
     },
     "execution_count": 334,
     "metadata": {},
     "output_type": "execute_result"
    }
   ],
   "source": [
    "baby_df"
   ],
   "metadata": {
    "collapsed": false,
    "ExecuteTime": {
     "end_time": "2023-12-08T16:23:30.889930400Z",
     "start_time": "2023-12-08T16:23:30.884471500Z"
    }
   }
  },
  {
   "cell_type": "markdown",
   "metadata": {},
   "source": [
    "## Exercise 1 (data preparation)\n",
    "a) Remove punctuation from reviews using the given function.   \n",
    "b) Replace all missing (nan) revies with empty \"\" string.  \n",
    "c) Drop all the entries with rating = 3, as they have neutral sentiment.   \n",
    "d) Set all positive ($\\geq$4) ratings to 1 and negative($\\leq$2) to -1."
   ]
  },
  {
   "cell_type": "code",
   "execution_count": 335,
   "metadata": {
    "collapsed": false,
    "ExecuteTime": {
     "end_time": "2023-12-08T16:23:31.637089100Z",
     "start_time": "2023-12-08T16:23:30.890931100Z"
    }
   },
   "outputs": [
    {
     "data": {
      "text/plain": "'Lovely book its bound tightly so you may not be able to add alot of photoscards aside from the designated spaces in the book Shop around before you purchase as it is currently listed at Barnes  Noble for 2995'"
     },
     "execution_count": 335,
     "metadata": {},
     "output_type": "execute_result"
    }
   ],
   "source": [
    "#a)\n",
    "\n",
    "baby_df['review'] = baby_df['review'].apply(lambda text: remove_punctuation(str(text)))\n",
    "baby_df[\"review\"][6]"
   ]
  },
  {
   "cell_type": "code",
   "execution_count": 336,
   "metadata": {
    "collapsed": false,
    "ExecuteTime": {
     "end_time": "2023-12-08T16:23:31.679228100Z",
     "start_time": "2023-12-08T16:23:31.622089700Z"
    }
   },
   "outputs": [
    {
     "name": "stdout",
     "output_type": "stream",
     "text": [
      "True\n"
     ]
    },
    {
     "data": {
      "text/plain": "''"
     },
     "execution_count": 336,
     "metadata": {},
     "output_type": "execute_result"
    }
   ],
   "source": [
    "#b)\n",
    "baby_df[\"review\"] = baby_df['review'].replace(['nan'], [\"\"])\n",
    "#short test:\n",
    "print(baby_df[\"review\"][38] == baby_df[\"review\"][38])\n",
    "baby_df[\"review\"][38]"
   ]
  },
  {
   "cell_type": "code",
   "execution_count": 337,
   "metadata": {
    "collapsed": false,
    "ExecuteTime": {
     "end_time": "2023-12-08T16:23:31.710298500Z",
     "start_time": "2023-12-08T16:23:31.677228800Z"
    }
   },
   "outputs": [
    {
     "data": {
      "text/plain": "0"
     },
     "execution_count": 337,
     "metadata": {},
     "output_type": "execute_result"
    }
   ],
   "source": [
    "#c)\n",
    "baby_df = baby_df.drop(baby_df[baby_df[\"rating\"] == 3].index)\n",
    "#short test:\n",
    "sum(baby_df[\"rating\"] == 3)"
   ]
  },
  {
   "cell_type": "code",
   "execution_count": 338,
   "metadata": {
    "collapsed": false,
    "ExecuteTime": {
     "end_time": "2023-12-08T16:23:31.782126800Z",
     "start_time": "2023-12-08T16:23:31.704329100Z"
    }
   },
   "outputs": [
    {
     "data": {
      "text/plain": "0"
     },
     "execution_count": 338,
     "metadata": {},
     "output_type": "execute_result"
    }
   ],
   "source": [
    "#d) \n",
    "ones = baby_df.loc[baby_df[\"rating\"] >= 4]\n",
    "minus_one = baby_df.loc[baby_df[\"rating\"] <= 2]\n",
    "\n",
    "baby_df.loc[ones.index, 'rating'] = 1\n",
    "baby_df.loc[minus_one.index, 'rating'] = -1\n",
    "#short test:\n",
    "sum(baby_df[\"rating\"]**2 != 1)"
   ]
  },
  {
   "cell_type": "markdown",
   "metadata": {},
   "source": [
    "## CountVectorizer\n",
    "In order to analyze strings, we need to assign them numerical values. We will use one of the simplest string representation, which transforms strings into the $n$ dimensional vectors. The number of dimensions will be the size of our dictionary, and then the values of the vector will represent the number of appereances of the given word in the sentence."
   ]
  },
  {
   "cell_type": "code",
   "execution_count": 339,
   "metadata": {
    "collapsed": false,
    "ExecuteTime": {
     "end_time": "2023-12-08T16:23:31.782126800Z",
     "start_time": "2023-12-08T16:23:31.738177100Z"
    }
   },
   "outputs": [
    {
     "name": "stdout",
     "output_type": "stream",
     "text": [
      "['adore' 'and' 'apples' 'bananas' 'dislike' 'hate' 'like' 'oranges' 'they'\n",
      " 'we']\n",
      "[[0 0 1 0 0 0 1 0 0 1]\n",
      " [0 0 0 0 0 1 0 1 0 1]\n",
      " [1 0 0 1 0 0 0 0 0 0]\n",
      " [0 1 1 0 0 0 2 1 0 1]\n",
      " [0 0 0 1 1 0 0 0 1 0]]\n"
     ]
    }
   ],
   "source": [
    "from sklearn.feature_extraction.text import CountVectorizer\n",
    "\n",
    "vectorizer = CountVectorizer()\n",
    "reviews_train_example = [\"We like apples\",\n",
    "                   \"We hate oranges\",\n",
    "                   \"I adore bananas\",\n",
    "                   \"We like like apples and oranges\",\n",
    "                   \"They dislike bananas\"]\n",
    "\n",
    "X_train_example = vectorizer.fit_transform(reviews_train_example)\n",
    "\n",
    "print(vectorizer.get_feature_names_out())\n",
    "print(X_train_example.todense())\n",
    "\n"
   ]
  },
  {
   "cell_type": "code",
   "execution_count": 340,
   "metadata": {
    "collapsed": false,
    "ExecuteTime": {
     "end_time": "2023-12-08T16:23:31.782126800Z",
     "start_time": "2023-12-08T16:23:31.742350Z"
    }
   },
   "outputs": [
    {
     "name": "stdout",
     "output_type": "stream",
     "text": [
      "[[0 0 0 1 0 0 1 0 1 0]\n",
      " [0 1 1 1 0 1 0 1 0 1]\n",
      " [0 0 0 1 0 0 0 0 0 1]]\n"
     ]
    }
   ],
   "source": [
    "reviews_test_example = [\"They like bananas\",\n",
    "                   \"We hate oranges bananas and apples\",\n",
    "                   \"We love bananas\"] #New word!\n",
    "\n",
    "X_test_example = vectorizer.transform(reviews_test_example)\n",
    "\n",
    "print(X_test_example.todense())"
   ]
  },
  {
   "cell_type": "markdown",
   "metadata": {},
   "source": [
    "We should acknowledge few facts. Firstly, CountVectorizer does not take order into account. Secondly, it ignores one-letter words (this can be changed during initialization). Finally, for test values, CountVectorizer ignores words which are not in it's dictionary."
   ]
  },
  {
   "cell_type": "markdown",
   "metadata": {},
   "source": [
    "## Exercise 2 \n",
    "a) Split dataset into training and test sets.     \n",
    "b) Transform reviews into vectors using CountVectorizer. "
   ]
  },
  {
   "cell_type": "code",
   "execution_count": 341,
   "metadata": {
    "collapsed": true,
    "ExecuteTime": {
     "end_time": "2023-12-08T16:23:31.782126800Z",
     "start_time": "2023-12-08T16:23:31.747336800Z"
    }
   },
   "outputs": [
    {
     "name": "stdout",
     "output_type": "stream",
     "text": [
      "18352     I dont know why people complain about these Ba...\n",
      "48654     This item took a long time to come and then it...\n",
      "4646      your service is great and your products that a...\n",
      "82322     My little man loves his giraffe it often sooth...\n",
      "102169    I have had 2 of these for a few years now and ...\n",
      "Name: review, dtype: object\n"
     ]
    }
   ],
   "source": [
    "#a)\n",
    "X_train, X_test, y_train, y_test = train_test_split(baby_df['review'], baby_df['rating'], test_size=0.3, random_state=34)\n",
    "\n",
    "\n",
    "\n",
    "# X_train = np.array(X_train)\n",
    "print(X_train[:5])"
   ]
  },
  {
   "cell_type": "code",
   "execution_count": 342,
   "metadata": {
    "collapsed": true,
    "ExecuteTime": {
     "end_time": "2023-12-08T16:23:37.576434900Z",
     "start_time": "2023-12-08T16:23:31.768127Z"
    }
   },
   "outputs": [
    {
     "data": {
      "text/plain": "<116726x111387 sparse matrix of type '<class 'numpy.int64'>'\n\twith 6216170 stored elements in Compressed Sparse Row format>"
     },
     "execution_count": 342,
     "metadata": {},
     "output_type": "execute_result"
    }
   ],
   "source": [
    "#b)\n",
    "vectorizer = CountVectorizer()\n",
    "X_train = vectorizer.fit_transform(X_train.astype('U'))\n",
    "X_test = vectorizer.transform(X_test.astype('U'))\n",
    "\n",
    "X_train\n",
    "    "
   ]
  },
  {
   "cell_type": "code",
   "execution_count": 343,
   "outputs": [
    {
     "name": "stdout",
     "output_type": "stream",
     "text": [
      "  (0, 32510)\t1\n",
      "  (0, 54728)\t1\n",
      "  (0, 108753)\t1\n",
      "  (0, 72071)\t1\n",
      "  (0, 24793)\t1\n",
      "  (0, 6649)\t2\n",
      "  (0, 97817)\t1\n",
      "  (0, 13679)\t1\n",
      "  (0, 67975)\t3\n",
      "  (0, 97184)\t13\n",
      "  (0, 9141)\t1\n",
      "  (0, 81938)\t1\n",
      "  (0, 40738)\t1\n",
      "  (0, 98310)\t1\n",
      "  (0, 76507)\t2\n",
      "  (0, 11348)\t2\n",
      "  (0, 39429)\t1\n",
      "  (0, 77703)\t1\n",
      "  (0, 85851)\t1\n",
      "  (0, 67286)\t5\n",
      "  (0, 14442)\t8\n",
      "  (0, 78920)\t4\n",
      "  (0, 13889)\t1\n",
      "  (0, 9432)\t4\n",
      "  (0, 15320)\t1\n",
      "  :\t:\n",
      "  (0, 91688)\t1\n",
      "  (0, 108475)\t1\n",
      "  (0, 52196)\t1\n",
      "  (0, 85133)\t1\n",
      "  (0, 99668)\t2\n",
      "  (0, 87135)\t1\n",
      "  (0, 69493)\t2\n",
      "  (0, 104910)\t1\n",
      "  (0, 50345)\t1\n",
      "  (0, 83494)\t1\n",
      "  (0, 93155)\t1\n",
      "  (0, 77419)\t1\n",
      "  (0, 103121)\t1\n",
      "  (0, 59712)\t1\n",
      "  (0, 107527)\t1\n",
      "  (0, 64492)\t1\n",
      "  (0, 104524)\t1\n",
      "  (0, 8546)\t1\n",
      "  (0, 56004)\t1\n",
      "  (0, 37461)\t1\n",
      "  (0, 38793)\t1\n",
      "  (0, 75792)\t1\n",
      "  (0, 94002)\t1\n",
      "  (0, 63326)\t1\n",
      "  (0, 93984)\t1\n"
     ]
    }
   ],
   "source": [
    "print(X_train[0])"
   ],
   "metadata": {
    "collapsed": false,
    "ExecuteTime": {
     "end_time": "2023-12-08T16:23:37.576434900Z",
     "start_time": "2023-12-08T16:23:37.566620200Z"
    }
   }
  },
  {
   "cell_type": "markdown",
   "metadata": {},
   "source": [
    "## Exercise 3 \n",
    "a) Train LogisticRegression model on training data (reviews processed with CountVectorizer, ratings as they were).   \n",
    "b) Print 10 most positive and 10 most negative words."
   ]
  },
  {
   "cell_type": "code",
   "execution_count": 344,
   "metadata": {
    "collapsed": true,
    "ExecuteTime": {
     "end_time": "2023-12-08T16:23:45.926201700Z",
     "start_time": "2023-12-08T16:23:37.571436800Z"
    }
   },
   "outputs": [
    {
     "name": "stderr",
     "output_type": "stream",
     "text": [
      "D:\\Anaconda\\Lib\\site-packages\\sklearn\\utils\\validation.py:605: FutureWarning: is_sparse is deprecated and will be removed in a future version. Check `isinstance(dtype, pd.SparseDtype)` instead.\n",
      "  if is_sparse(pd_dtype):\n",
      "D:\\Anaconda\\Lib\\site-packages\\sklearn\\utils\\validation.py:614: FutureWarning: is_sparse is deprecated and will be removed in a future version. Check `isinstance(dtype, pd.SparseDtype)` instead.\n",
      "  if is_sparse(pd_dtype) or not is_extension_array_dtype(pd_dtype):\n",
      "[Parallel(n_jobs=4)]: Using backend LokyBackend with 4 concurrent workers.\n",
      "[Parallel(n_jobs=4)]: Done   1 out of   1 | elapsed:    7.8s finished\n"
     ]
    },
    {
     "data": {
      "text/plain": "LogisticRegression(max_iter=300, n_jobs=4, verbose=1)",
      "text/html": "<style>#sk-container-id-16 {color: black;background-color: white;}#sk-container-id-16 pre{padding: 0;}#sk-container-id-16 div.sk-toggleable {background-color: white;}#sk-container-id-16 label.sk-toggleable__label {cursor: pointer;display: block;width: 100%;margin-bottom: 0;padding: 0.3em;box-sizing: border-box;text-align: center;}#sk-container-id-16 label.sk-toggleable__label-arrow:before {content: \"▸\";float: left;margin-right: 0.25em;color: #696969;}#sk-container-id-16 label.sk-toggleable__label-arrow:hover:before {color: black;}#sk-container-id-16 div.sk-estimator:hover label.sk-toggleable__label-arrow:before {color: black;}#sk-container-id-16 div.sk-toggleable__content {max-height: 0;max-width: 0;overflow: hidden;text-align: left;background-color: #f0f8ff;}#sk-container-id-16 div.sk-toggleable__content pre {margin: 0.2em;color: black;border-radius: 0.25em;background-color: #f0f8ff;}#sk-container-id-16 input.sk-toggleable__control:checked~div.sk-toggleable__content {max-height: 200px;max-width: 100%;overflow: auto;}#sk-container-id-16 input.sk-toggleable__control:checked~label.sk-toggleable__label-arrow:before {content: \"▾\";}#sk-container-id-16 div.sk-estimator input.sk-toggleable__control:checked~label.sk-toggleable__label {background-color: #d4ebff;}#sk-container-id-16 div.sk-label input.sk-toggleable__control:checked~label.sk-toggleable__label {background-color: #d4ebff;}#sk-container-id-16 input.sk-hidden--visually {border: 0;clip: rect(1px 1px 1px 1px);clip: rect(1px, 1px, 1px, 1px);height: 1px;margin: -1px;overflow: hidden;padding: 0;position: absolute;width: 1px;}#sk-container-id-16 div.sk-estimator {font-family: monospace;background-color: #f0f8ff;border: 1px dotted black;border-radius: 0.25em;box-sizing: border-box;margin-bottom: 0.5em;}#sk-container-id-16 div.sk-estimator:hover {background-color: #d4ebff;}#sk-container-id-16 div.sk-parallel-item::after {content: \"\";width: 100%;border-bottom: 1px solid gray;flex-grow: 1;}#sk-container-id-16 div.sk-label:hover label.sk-toggleable__label {background-color: #d4ebff;}#sk-container-id-16 div.sk-serial::before {content: \"\";position: absolute;border-left: 1px solid gray;box-sizing: border-box;top: 0;bottom: 0;left: 50%;z-index: 0;}#sk-container-id-16 div.sk-serial {display: flex;flex-direction: column;align-items: center;background-color: white;padding-right: 0.2em;padding-left: 0.2em;position: relative;}#sk-container-id-16 div.sk-item {position: relative;z-index: 1;}#sk-container-id-16 div.sk-parallel {display: flex;align-items: stretch;justify-content: center;background-color: white;position: relative;}#sk-container-id-16 div.sk-item::before, #sk-container-id-16 div.sk-parallel-item::before {content: \"\";position: absolute;border-left: 1px solid gray;box-sizing: border-box;top: 0;bottom: 0;left: 50%;z-index: -1;}#sk-container-id-16 div.sk-parallel-item {display: flex;flex-direction: column;z-index: 1;position: relative;background-color: white;}#sk-container-id-16 div.sk-parallel-item:first-child::after {align-self: flex-end;width: 50%;}#sk-container-id-16 div.sk-parallel-item:last-child::after {align-self: flex-start;width: 50%;}#sk-container-id-16 div.sk-parallel-item:only-child::after {width: 0;}#sk-container-id-16 div.sk-dashed-wrapped {border: 1px dashed gray;margin: 0 0.4em 0.5em 0.4em;box-sizing: border-box;padding-bottom: 0.4em;background-color: white;}#sk-container-id-16 div.sk-label label {font-family: monospace;font-weight: bold;display: inline-block;line-height: 1.2em;}#sk-container-id-16 div.sk-label-container {text-align: center;}#sk-container-id-16 div.sk-container {/* jupyter's `normalize.less` sets `[hidden] { display: none; }` but bootstrap.min.css set `[hidden] { display: none !important; }` so we also need the `!important` here to be able to override the default hidden behavior on the sphinx rendered scikit-learn.org. See: https://github.com/scikit-learn/scikit-learn/issues/21755 */display: inline-block !important;position: relative;}#sk-container-id-16 div.sk-text-repr-fallback {display: none;}</style><div id=\"sk-container-id-16\" class=\"sk-top-container\"><div class=\"sk-text-repr-fallback\"><pre>LogisticRegression(max_iter=300, n_jobs=4, verbose=1)</pre><b>In a Jupyter environment, please rerun this cell to show the HTML representation or trust the notebook. <br />On GitHub, the HTML representation is unable to render, please try loading this page with nbviewer.org.</b></div><div class=\"sk-container\" hidden><div class=\"sk-item\"><div class=\"sk-estimator sk-toggleable\"><input class=\"sk-toggleable__control sk-hidden--visually\" id=\"sk-estimator-id-16\" type=\"checkbox\" checked><label for=\"sk-estimator-id-16\" class=\"sk-toggleable__label sk-toggleable__label-arrow\">LogisticRegression</label><div class=\"sk-toggleable__content\"><pre>LogisticRegression(max_iter=300, n_jobs=4, verbose=1)</pre></div></div></div></div></div>"
     },
     "execution_count": 344,
     "metadata": {},
     "output_type": "execute_result"
    }
   ],
   "source": [
    "#a)\n",
    "model = LogisticRegression(max_iter=300, verbose=1, n_jobs=4)\n",
    "\n",
    "model.fit(X_train, y_train)\n"
   ]
  },
  {
   "cell_type": "code",
   "execution_count": 345,
   "outputs": [
    {
     "data": {
      "text/plain": "18352     1\n48654    -1\n4646      1\n82322     1\n102169    1\n         ..\n42271     1\n90543     1\n168868    1\n47832    -1\n113975    1\nName: rating, Length: 116726, dtype: int64"
     },
     "execution_count": 345,
     "metadata": {},
     "output_type": "execute_result"
    }
   ],
   "source": [
    "y_train"
   ],
   "metadata": {
    "collapsed": false,
    "ExecuteTime": {
     "end_time": "2023-12-08T16:23:45.926201700Z",
     "start_time": "2023-12-08T16:23:45.921627300Z"
    }
   }
  },
  {
   "cell_type": "code",
   "execution_count": 346,
   "metadata": {
    "collapsed": true,
    "ExecuteTime": {
     "end_time": "2023-12-08T16:23:46.015477300Z",
     "start_time": "2023-12-08T16:23:45.928200300Z"
    }
   },
   "outputs": [
    {
     "name": "stdout",
     "output_type": "stream",
     "text": [
      "[[0.00087309 0.02614315 0.02176042 ... 0.00032197 0.00699404 0.00692097]]\n",
      "\n",
      "10 most positive words:\n",
      "['excellent' 'con' 'girly' 'thankful' 'minor' 'amazing' 'tied' 'skeptical'\n",
      " 'ply' 'pleasantly']\n",
      "\n",
      "10 most negative words:\n",
      "['unacceptable' 'poor' 'terrible' 'unusable' 'useless' 'dissapointed'\n",
      " 'returning' 'worst' 'disappointing' 'concept']\n"
     ]
    }
   ],
   "source": [
    "#b)\n",
    "print(model.coef_)\n",
    "top_positive_coef_index = np.argpartition(model.coef_[0], -10)[-10:]\n",
    "top_negative_coef_index = np.argpartition(model.coef_[0], 10)[:10]\n",
    "\n",
    "top_positive_coef = vectorizer.get_feature_names_out()[top_positive_coef_index]\n",
    "top_negative_coef = vectorizer.get_feature_names_out()[top_negative_coef_index]\n",
    "\n",
    "\n",
    "print(f'\\n10 most positive words:\\n{top_positive_coef}')\n",
    "print(f'\\n10 most negative words:\\n{top_negative_coef}')"
   ]
  },
  {
   "cell_type": "markdown",
   "metadata": {},
   "source": [
    "## Exercise 4 \n",
    "a) Predict the sentiment of test data reviews.   \n",
    "b) Predict the sentiment of test data reviews in terms of probability.   \n",
    "c) Find five most positive and most negative reviews.   \n",
    "d) Calculate the accuracy of predictions."
   ]
  },
  {
   "cell_type": "code",
   "execution_count": 347,
   "metadata": {
    "collapsed": true,
    "ExecuteTime": {
     "end_time": "2023-12-08T16:23:46.035520200Z",
     "start_time": "2023-12-08T16:23:46.017479900Z"
    }
   },
   "outputs": [
    {
     "data": {
      "text/plain": "array([1, 1, 1, ..., 1, 1, 1], dtype=int64)"
     },
     "execution_count": 347,
     "metadata": {},
     "output_type": "execute_result"
    }
   ],
   "source": [
    "#a)\n",
    "model.predict(X_test)"
   ]
  },
  {
   "cell_type": "code",
   "execution_count": 348,
   "metadata": {
    "collapsed": true,
    "ExecuteTime": {
     "end_time": "2023-12-08T16:23:46.043075Z",
     "start_time": "2023-12-08T16:23:46.029520600Z"
    }
   },
   "outputs": [
    {
     "data": {
      "text/plain": "array([[3.13248661e-03, 9.96867513e-01],\n       [1.62366131e-02, 9.83763387e-01],\n       [4.09691123e-02, 9.59030888e-01],\n       ...,\n       [4.74905865e-03, 9.95250941e-01],\n       [3.03182372e-06, 9.99996968e-01],\n       [2.54937281e-04, 9.99745063e-01]])"
     },
     "execution_count": 348,
     "metadata": {},
     "output_type": "execute_result"
    }
   ],
   "source": [
    "#b)\n",
    "result = model.predict_proba(X_test)\n",
    "result"
   ]
  },
  {
   "cell_type": "code",
   "execution_count": 349,
   "metadata": {
    "collapsed": true,
    "ExecuteTime": {
     "end_time": "2023-12-08T16:23:46.079351Z",
     "start_time": "2023-12-08T16:23:46.043075Z"
    }
   },
   "outputs": [
    {
     "name": "stdout",
     "output_type": "stream",
     "text": [
      "****The most positive****\n",
      "\n",
      "This chair is wonderful  I own a 2006 Nissan Pathfinder and a BMW 330i  I bought this seat mainly because I watched a video by a man who bought two for two kids  One being a 45 year old girl still keeping her rear facing because its the safest way to go  She said she was still comfortable and loved the chair  I figured I can keep my son rear facing as long as possible and with the air pads for his head its the safest chair  Other chairs had thin padding and underneath hard plasticUpon opening the box I was quite satisfied already  There was nothing to put together no plastic to take off of it It was ready to go  The instructions are on the side for easy install into your vehicle and the booklet is hidden on the back of the chair  You can use any of the three types of seat seat belts for this seat  For the Pathfinder I have the option of the chest cross belt or lapbelt  It also has a way to install the seat with hook beltsIn my Pathfinder it turned out that the car seat is too wide for my belts  We ended up using a different slot on the seat which goes through the bottom instead of the back of the chair  We were done after that  My 14 month old was happy with it  I still had leg room in the passenger seat and Im 59 tall  No complaints there  Also even though its a larger seat than a baby car seat it fit perfectly on the seats  Be prepared though to struggle a little bit  The slots to pull the seatbelt through can be a little small and you might have a hard time at first  Now that Im used to it its not such a big deal  My husband is 511 and could fit his hand through the slotThe ultimate test was fitting it into a BMW 330i which is a tiny car  It can be cramped in there at times depending on who is sitting in the back  To my surprise this chair fit fine  The 330i has a larger seat than the Pathfinder I found and I had a lot of room in the front  This was a relief as I saw many Honda owners having problems with this seat  Definitely make sure you can get it to fit in your Honda or any car seat for that matter  You might want to measure and take it to the store before buying one  But if anything you can sell the chair and find one that fits better for you  Also look up users cars who could fit this chair is and go by those measurements when looking for a carseat  Being that this seat is one of the best Ive found it could be a major let down when you find out it wont workThe carseat restraints are great as well  Not difficult to release the child though they will need strength to escapeThe cloth on the seats are nice  Not cheapMy only problem is that my son will fall asleep in the chair and his head hangs over  This happens in any seat  He does figure ways to fix that though as any child would  He uses the padding as a pillowSo far no complaints really  Easy in easy out once you get used to pulling the belt through the slot  LOTS of room for front passengers  Overall GREAT seat\n",
      "\n",
      "Ill just say in advance that the haters can judge me all they want The fact of the matter is their real problem isnt with this product but with how they ASSUME it is going to be used Guess what I do NOT abandon my kid in the bathroom with the 34electronic babysitter34 I sit with him and help him play the EDUCATIONAL games on the iPad which he loves Some of which were RECOMMENDED by his SPEECH therapist to help with his articulation btw Hes not just sitting there playing Angry Birds by himself while Im off doing who knows what not that theres anything wrong with Angry Birds IMOI have 3 kids of whom the one using this potty is the youngest However I was a nanny for 6 years before I was a mom so this is my SIXTH time potty training a kid 3 girls 3 boys and let me tell you Ive learned a thing or two along the way First and foremost whenever possible you should avoid forcing a kid to potty train ie deciding that at 2yrs they need to train so you can get them into preschool and then forcing them to sit on the potty every 30 minutes It just makes everyone miserable and rarely works as quickly or as well as if you simply wait for himher to be ready Second every kid is different and you have to go with what works for THAT kid or again you are just making things miserable for both you and the kidI wont go into detail on my nanny potty training experiences Speaking to my own kids though  My oldest child didnt respond to ANY bribereward we offered And believe me we tried EVERYTHING well not anything negative of course Then one day he just decided he was done with diapers Period My middle child would use the potty just to get a sticker on his chart and a highfive from his mommy Now for the last year my youngest has told us 34No34 in no uncertain terms every time we asked if he wanted to use the potty No matter what bribereward we offered or what privileges we pointed out that he could gain by using the potty he just didnt want to give it a try UNTIL on a whim we offered the iPad Once he figured out he could use the iPad if he used the potty BINGO He was perfectly happy even eager to use the pottyExcept daddy was nervous about having the iPad near the big toilet frankly Mommy wasnt too thrilled either since it was her iPad and Mommy got tired of squatting in front of our son and holding the iPad Literally My legs were falling asleep So I got online to look for a new little potty for him big brothers had busted our old little one  I figured with a little potty I could at least sit down fully on the floor with the iPad in my lap instead of squatting Thats when I stumbled across the iPottyAside from protecting the iPad and relieving me of the physical need to squat in front of him like a human TV tray this potty has other great features  First of all it fits my kids butt  legs And hes not a little tyke Hes 3 12 years old but hes the size of a 4 12 year old in height and proportionate in weight  However his extra height and size are no problem for this potty The seat itself is the right size although I dont think an avg 2 yr old would fall in either and there is plenty of room between the iPad stand and his knees although to be honest hes usually leaning back against the wall and sprawling his legs out in front of him  hes that comfortableThe biggest problem I have is getting him to keep his 34little part34 aimed into the toilet partly because when he leans back it pops up just slightly above the pee guard  However that is NOT a fault of the pee guard The pee guard is ample in size but not obtrusive and doesnt seem to bother him at all even when he leans forward against it 9 times out of 10 the pee winds up in the right place even when he is leaning back just because of angle and the placement and size and shape of the pee guard Oh and the pee guard is firmly in there No worries about it popping off like other potties Ive used The few times the pee escapes its usually because he was fiddling with his 34little part34 and I didnt catch the aim problem fast enough If he just sat up and didnt fiddle absentmindedly with his 34little part34 there would be no problem and the pee would be in the bucket every time But boys will be boysAs for leaking there is none NONE None I have experience using 7 different potties besides this one This is the ONLY one that had zero leak problemsThis is by FAR the easiest to keep clean For one thing the pee actually goes into the bucket It doesnt seep under the seat like with so many other models  For another the seat is smooth with no real crevices for nasties to hide and the whole thing is a cynch to clean with a simple Clorox wipe Even when he has 34missed34 the pee has gone down the side again because of the placement of the pee guard preventing forward aim and there just arent any hard places to wipe there No need to dig out a toothbrush or even toothpick to clean out the small crevices like on other potties Ive used This pottys sleek design is more than just aesthetically appealing Its practical And lets just say that the pee somehow magically found its way to the base of the iPad stand something that hasnt yet happened All you would have to do is pop out an easily accessible pin that little green thing at the base of the stand in the picture lift the stand up wipe the area and replace the stand and pin Piece of cakeThe only VERY minor disappointment was finding that although he can navigate the touch screen with zero troubles my son cant push hard enough through the plastic protective cover to activate the 34home34 button on the iPad However my son has fairly weak hands so an average child might have no problem with this My older boys can push the button through the plastic no problem That said my little smarty figured out that at one point I had left one of the snaps undone on the side of the cover and he figured out that he could wiggle his little finger around and UNDER that edge of the cover to reach the 34home34 button that way Problem solved Now I leave that side unsnapped deliberately  With the way the cover wraps around the stand the iPad is still protected from 34poor aim34 not that anything has ever made it that high and we just wipe the 34home34 button with a sanitary wipe every now and then Of course we also use a Clorox wipe on the protective cover Speaking of the protective cover it snaps directly to the stand and is a good fit I have zero complaints about its design and no worries of it coming looseAlso of minor note the child really cant have anything around their ankles and still straddle the stand the way they need to to sit on this potty I suppose this could be an issue if youre running out the door already have shoes and pants on and dont want to slide the pants over one shoe to free up the legs But we dont wear shoes in the house anyway and my son really doesnt like having anything around his ankles so this was a mute point for us  Maybe you could keep the pants on if you kept the crotch at knee level instead of at the ankles but I havent tried it so couldnt say for sureOh yeah and assembly was such a piece of cake I almost forgot to mention it The instructions made it clear what went where and while daddy was at work I had this thing out of the box and assembled in well under 10 minutes Possibly under 5 No tools required Now that Ive done it once I could probably disassemble and reassemble the thing in under a minute Seriously easyI told my son the 34activity seat34 was a lid btw That feature wont get used till hes done needing it as an actual potty It would just be too confusing and I see the activity stand as a reward for doing his business Its amazing that the potty itself is used as the reward now thanks to the stand  I mean we still give him stickers on a chart and he likes that but the iPad is what gets him to sit down in the first place Without that I am convinced he would have lost interest long ago and I would have to be much more pushy about getting him to try In fact in the beginning the few times the iPads battery was depleted it was a lot more difficult to convince him to sit on the potty With the iPad working its just a matter of suggesting he try it and he agrees No arguing pleading or persuading Now that hes been doing it for about a week hes spending less time on the potty and starting to recognize his urges sooner so that he is taking himself to the potty doing his business and getting off quickly to go play with his brothers more and more often In other words its slowly becoming less about iPad time and more about doing his business and moving on But the iPad is still what gets him to try when hes in the middle of playing and I realize its about that time when he is likely to need to go again No kid likes to stop playing to go sit on the potty  This makes the decision easier for him and less stress on me  I see absolutely no reason to feel guilty about that and I couldnt be happier about my purchase What this potty doesnt do  convert to a little seat for a grownup potty or convert to a foot stool BUT it doesnt promise to either This potty delivers on what it promises You cant complain about something that was never promised and I have yet to find a potty that does those two things and does NOT leak Not to mention the built in incentive of the iPad would be missing So for me its worth the extra  and bathroom square footage to buy a separate stool and eventually a little seat for the big toilet when hes ready for that transition Actually I already have them and my 34little seat34 serves as a travel potty for hikes and road trips too but thats another reviewTHANK YOU CTA Digital for creating the iPotty and offering it for sale to the public You have made this potentially difficult transition easier for both myself and my child \n",
      "\n",
      "1 Set Up Very easy if you are someone who reads directions I tried to do it myself and ended up with a toy that folded in on itself Read the directions and youll save time2 Mat Very plush Could be slightly larger but still a great size overall The pictures on the mat are great real life photos are mixed with the corresponding cartoon animal3 Music Toy Wonderful songs I believe there are 7 in all Two different levels of sound and two options for music continuous play or motion detected However the continuous play goes for maybe 5 minutes and then you have to get up and flip the switch off and then on to make it go through the songs again Sort of annoying when you are trying to go to the bathroom or take a shower and you have to run out to turn the music on again The blinking lights in the middle that correspond with the music its playing teach rhythm and keep my sons attention until it turns off that is4 Toys There are an abundance of toys that go with this mat Unlike any of the other mats on the market you can move the toys around there are about 15 different hooks on the mat that you can move the toys to The panda has gotten the most play time so far it is the longest and therefore the closest to my sons hands when he reaches up Its very cute and has some rattles inside The two chips with animals on one side and the world map on the other make an intriguing noise when banged together and are thin enough for an easy hold The hanging world rattle is great when baby is a bit older It scares my son as of now because it is slightly louder than any rattle hes played with before It is super cute and has a good handhold for when he becomes interested The mirror is obviously plastic but has a great image The lion peering down makes a good friend in the mirror and my son loves to catch himself in the image and then scream at himself There is an adorable igloopenguin teether that hasnt gotten much play time yet either but Im certain it will soon I put it in the fridge for a bit and he loved sucking on it The little bird is the least interactive toy on the mat she just hangs there but I catch my son staring at it every now and again The corresponding picture on the mat however is my sons favorite picture to look at5 PLUS Song toy from the top can be removed an put into babys crib at night Doubles as a great night light and has more than enough soothing lullabies6 OVERALL Great mat I am so glad that we waited the few extra months for its release date It was well worth the wait It keeps his attention for over 20 minutes and hes only 3 months old I would definitely recommend to anyone looking for a mat the issue with the song toy is not nearly worth not purchasing it\n",
      "\n",
      "After seeing this in Parents Magazine and reading all the wonderful reviews on Amazon I decided to get it Its a GREAT stroller thats hard to beat for only 40 Christina model No bending over when pushing the Sport Plus because the adjustable handles make this stroller a breeze to steer for people of just about any height Smooth ride compact with LOTS of features  this stroller is PERFECT for shopping AND vacation tripsIt took less than 5 minutes to assemble too Open the box take the stroller and the 4 wheels out of the box open the stroller and flip it over pop on the four wheels then flip the stroller back over Voilagrave It was so easyThe adjustable handles are a cool feature  something you dont see on many expensive strollers Im 54 and my husband is 60 and we dont have to bend over at all to push the stroller Its is very comfortable for both of us and no more kicking the back wheels At the mall the other day we saw a man who was shorter than my husband pushing his little boy in an umbrella stroller  the poor guy was hunched completely overI like the fabric console Its big enough to hold keys cell phones wallets and other small objects You can leave your purses in the car ladies The cup holders are nice too  it held my vitamin water which is wider than a soda can with no problemMy Skip Hop Saddle Bag it holds a few diapers baby wipes etc attaches to the back of the stroller just under the fabric console so I can put toys for Serenity in the basketSerenity is comfortable riding too She fell fast asleep in it at the Zoo the other day I like the mesh seat pad and the adjustable canopy  GREAT features for summertime vacation tripsI couldnt decide between this stroller and the Graco IPO Stroller Both are very attractive compact with lots of features But the IPO is almost twice the price depending on the model as the Sport Plus  so thats pretty much what helped me make my choiceI was searching for a nice wellmade inexpensive compact stroller and Ive found itIts also a VERY practical baby shower gift too New Mothers will need a good stroller when they get tired of lugging around those HUGE travel systemsUPDATE 21 July 08 The fabric on the stroller is very easy to clean when it gets dirty I just used Oxi Clean Laundry Stain Remover to get it looking great againWe used the stroller at the Audubon Aquarium of the Americas this past weekend and just LOVED it I compared it with the other strollers I saw and there were TONS  cheap  expensive and I think my Sport Plus was the best So did other people  I got lots of stares and complimentsUPDATE 22 April 11 Almost three years old and our stroller is still going strong I used it recently at Disney and it was so easy quick and easy to fold up for the tram bus and monorail  it took up very little room Its disappointing this stroller isnt available anymore It has such high ratings too The other one by Evenflo that is similar to this one Evenflo X Sport available at WalMart for around this same price I paid for the Plus 40 isnt nearly as nice and doesnt offer as many features as the Plus I wouldve liked to get one for my sisters new baby but cant since they have been discontinued Very disappointingUPDATE 19 April 12 This stroller is STILL going strong So durable and still in EXCELLENT shape I cant get over how well this stroller has held up over the years of constant use  VERY well made Serenity is a 5 now and I recently used it at the Mardi Gras parades and plan to use it at the zoo this Summer Absolutely the BEST stroller EVER I really hate that its not available anymore I keep checking whenever baby showers come up  this would make such an excellent gift Im always getting compliments on it  even after 4 years\n",
      "\n",
      "Great Pram RoccoI bought this pram from Europe unfortunately it was not available on Amazon back then and cost me tons of money This pram is so great Ive decided to give my opinion on itFirst of all let me notice that I cant imagine how to raise kids without pram I have three kids and it was the most useful and practical purchase for baby I made even I paid a fortune for it back then I used it everyday all year around When you have kids specially newborns and toddlers you dont get much excise plus I was getting really tired staying at home So I compensated it by long walks around neighborhood with our first baby and then taking toddlers to playground or for a walk while baby was sleeping in pram or I would just sent helper out with kids and enjoy some quite time at homeLet me tell you one thing that out weights everything else babies sleep much better outside then inside at home I guess the fresh air and a lot of oxygen make the trickso whenever it was possible I took them outside I was not happy using a car seat or other strollers for that as I worried about their back and spine The pram from other side keeps their back in correct position as it has flat and firm bottom I think none of the strollers that you convert from one position to another provides such a nice flat surface for baby specially for newborns to sleep soundly for few hours When our first daughter got bigger we used this pram with seat unit and visited a lot of places like zoo botanic garden and parks The amortization is great and it gives very smooth ride while kids in other strollers were trembling all the wayHere are few things I really love about this pram Smart  It has the smoothest ride on bouncy sidewalks and park trails  I guess it is because of prams suspension and large air pumped wheels Bassinet is large enough that I use it for quite long time It even fits now my 5 months old in snowsuit bundled in wool sleeping bag and there is some space leftFolded chassis You can detach bassinetseat unit and fold the chassis just in few minutes Cargo of our sedan provides enough space to put chassis and seat there the bassinet is too high to put into the cargo with chassis We also used to detach the bassinet with baby sleeping in it and bring it inside it has handles to carry when the weather gets really rough or when we have to go home and I dont want to wake her up The seatbassinet can face both ways Its not so important for bassinet but very nice for seat unit as babies grow they want to see more and enjoy the ride observing The back of the seat and the footrest can be adjusted up and down and they can make quite a long flat surface for toddler to sleep Rain cover I paid extra but looks like its included here allows you to be safe in any weather condition I used it during snow and windy time also You can easily adjust height of the handle it was great for us because we my husband and I are really different sizes The metal basket provides enough space to put some things when you out and its very convenient I actually used it to take some toys on playground with usBottom line I think Rocco is an excellent pram stroller and I use this pram all the time and I dont know what I would do without it The only thing I regret they didnt sell it here before\n",
      "\n",
      "\n",
      "****The most negative****\n",
      "\n",
      "Let me start by saying that I have gone through several prams recently trying to find one that meets all my requirements including  suitable for long walks outside and on all different terrains lightcompact and easy to fold and is comfortable for my little 13 weeks old daughter I originally bought the regular city mini but soon realised that it didnt do that great on terrain such as gravel and long grass etc Living near the beach I encounter many sidewalks and trails that arent the smoothest of surfaces I decided that the GT would be perfect to meet these needs and was worth the extra 100 for those forever air tiresHere are the improvements over the regular Mini that are in my opinion very much worth the extra  more plush and padded seat higher weight capacity of 60 pounds hand break adjustable handleand of course the GT forever air tiresOther positive aspects of this stroller include the HUGE canopy with the two peekaboo windows the very easy recline mechanism and even though it is a strap system the button is super easy to squeeze and use I owned a Bumbleride Indie earlier this year and although I loved all the other features the recline button was SUPER hard to press and stuck ALL the time  which eventually drove me crazy enough that I sold the stroller also the flat recline is awesome and my daughter sleeps ALL the time in there With the canopy all the way extended it is basically like her own little cocoon in there  the mesh opening at the back of the seat is great for hot days and air flow the one step folding system is fantastic and super easy Simply pull up on the middle strap in the seat and WAHLA the stroller is folded in half very compact and not too heavy at all 21 pounds the harness is very easy to use and i like how it is 5 points so I can choose when I want to use the shoulder straps or simply the side strapsand now about the basket  people have complained in the past that it is difficult to access and yes it is from the BACK if the seat is fully reclined I access it from the sides and find it VERY EASY to get things in and out and honestly you can fit SOOO much in there Recently I had a fairly large diaper bag plus several jackets in there and shoes from my kids playing at the beach and it all fit very nicelyThe only CON I may have with the GT in order to fold the stroller you basically cant leave a stroller liner in there that isnt secured in place I have to take out my liner each time but dont find it that big of a deal cause I just fold it up and put in on the side of the boot or could probably just stick it in the bottom of the pram and fold it in there also being a three wheel stroller some people may find that it doesnt feel that sturdy going up and down curbs etc but it just takes a bit of getting used toOVERALL  the GT pushes like a dream and really is a one handed stroller if needed It rides smoothly over all sorts of surfaces and the GT wheels really do make a huge difference OK so it doesnt offer parent facing which is why we also have a Baby Jogger Versa for shopping trips etc  however once our daughter is passed that stage in a few month I can see myself using the GT more as it is much lighter I love how the weight capacity is so high and at times my solid built 3 years old can hop in for a ride I can see us having this stroller for many years to comePS If you are after a parent tray that goes well with the Baby Jogger prams the Britax Stroller Organizer is awesome We use it on the Versa and GT and is sturdy and has the perfect compartments check it out Britax USA S866100 Stroller Organizer\n",
      "\n",
      "I researched strollers for months and months before my daughter was born  I was debating between the city mini a BOB and the Uppababy  The Uppababy was the most expensive out of the three and I was very leery about spending 700 on a stroller  That said the Uppababy Vista is WORTH EVERY PENNYI am a tall woman 59 and often times handle bars on strollers are too short for me  This one has three height levels and the highest one is plenty high enough for me  The ride is smooth the stroller is really easy to push and handles many different types of terrain  Even though its not an official jogging stroller Ive done some very low impact jogging with it on a track and it performed similarly to a BOB when used on a smooth surface Ive borrowed a BOB before from friends to run with  Im glad I didnt buy the BOB as my one stroller because the BOB doesnt have height adjustable handle bars  Also the BOB has bulkier wheels and the baby can only face out  On the Vista you can position the seat so the baby is looking out or looking in at you  LOVE this option  Also the sunshield is HUGE and offers excellent UV protection  This feature has been such a lifesaver during the summerThe basket underneath is so spacious  During the early months I used the car seat adapter and just put the car seat on top and used this stroller as a snap n go  It was so easy to fit tons of groceries in the bottom basket  Super convenient because the car seat takes up like an entire shopping cartWhile its not as easy to fold up as the city mini its a better all around stroller  I dont think its difficult to fold up at all once you learn how to do it  It fits just fine in the trunk of both my Toyota Camry and my husbands VolvoI love love love the clean design and look of the stroller and the color selections  I chose the blue color for my daughter and love it  Its totally a gender neutral blue and it brings out her pretty blue eyes  My friend owns the black one and it looks sharp too  Everyone I know who owns this stroller has been very happy with it  I think you will be happy with it tooMy ONLY complaint is that I wish it came with a cup holder  I dont like having to shell out an extra 20 for a stupid cup holder  But it sure would be nice to have one\n",
      "\n",
      "Choice  Quinny Buzz 2011 in Brown BoostTo start I should disclose that I am an expecting father thus my child has yet to be born lol and so I might update this review when stroller is used with my child in it For now this review is based on my inspections of the stroller once it was taken out of the box assembled and tested around a few blocks  In preparation for my first kid I did a lot of research on strollers and narrowed down my choice to the Quinny BuzzWhy My concerns were safety comfort ease on collapsing and unfolding and max weight that the stroller will hold Secondary factors were style and looks My choices were narrowed to the Bugaboo Chameleon Uppababy Vista and Quinny Buzz The Quinny won on account of price weight limit going to 55lbs Chameleon was noted to max out at a little less than 40lbs and the auto one handed or even slight kick unfolding mechanism The Uppababy ran 3rd on account of reviews I read stating that the stroller would collapse unexpectedly and the unfolding method seeming to be a bit complicatedOut of box  The stroller came in a box and was very protected from being damaged during shipping Just about every corner hinge etc was covered with soft foam to keep it from scratching or denting The assembly was super easy with simply sliding the shopping net in 1st then snapping in the wheels after A little extra air in the tires was needed though but no biggy The Boost Brown color is NOT as shown in the factory pics The pics depict a chocolate brown color for the seat but only the top shade comes in that color The seat is more of a light brown like coffee with a lot of cream added to itlol I dont mind but nevertheless thought some people should know because usually people expect to get what they see HINT HINT QUINNY incTest  The tests I performed where just to see how the stroller handled and how easy it would be to put away and bring out The first thing I did of course was to text the autounfolding mechanism I have to say I am pleased with this function because it actually works A simple nudge and boom the stroller is up and ready There is a strap that will help prevent the stroller from unfolding when you wish not to allow it to do so when in storage trunk etcI saw videos that suggest you can fold down the stroller with the seat on but when I tried that it wasnt too easy and seem to make a snap sound that made me nervous didnt want to break the stroller or seat So from now on I will just take the seat off when folding the frame down I took off the seat to face the pusher and that was a snap Easy push buttons down move the seat and snap back on One issue is that when the seat faces the pusher it only allows two positions When its forward facing it has 3 positions So one position is lost when the seat faces the pusher construction flaw I guess I bought a Quinny Dreami in Storm color for the stroller and with the included Maxi Cosi adapters the Dreami slides into place nice and secure The stroller looks very nice with the Dreami so Im very pleasedOutside testing  Took the stroller for a spin around a few blocks Test was conducted on sidewalks pavement streets and around the park grass dirt etc The stroller is smooth and comfortable Stroller was a breeze to go off and up sidewalks the pavemented streets were a smooth walk and on grass the stroller did not snag I walked around trees and slid like a snake on all terrains to see the ease of pushing it around and I was able to do so without a problem even with one hand Canopy sun shade is ok could have been a bit longer but I do like the peekaboo window to keep an eye on my child when the seat is forward facingSo farPROS Price compared to other brands with same styleAuto unfoldingCompact when foldedEasy to assemble and even disassembleControl on terrainsMax weight is 55lbs which will stretch the stroller life as the child grows Good jogger stroller and good all around strollerCONS Color did not match photo but still satisfiedCanopy could be biggerStraps could get a little tricky to adjust Might need more practiceWhen seat is set towards the stroller pusher you loose one position placement when compared to when it is foward facingDreami is sold separately Bugaboo and Uppababy have bassinet includedCup holder mosquito cover rain cover also sold separatelyUnder storage basket is a bit smallRecommendations  Buy the Quinny Dreami for the stroller While it will only last you for about 6 months its still stylish and doubles as a mini baby bed when you go to a friendsfamily members house It is VERY comfy looking and the materials are very softAlso I bought the Quinny Buzz on another bidding style site brand new in a sealed box and lucked out on the price of 265 no tax free shipping  So shop around 1st\n",
      "\n",
      "The Thirsties are really an awesome concept that are perfect for the parent or caretaker who opts for cloth diapers  I used cloth diapers and aside for the little extra work of laundering them I was quite pleased with them  For one thing I never had to battle diaper rash because I definitely knew when the baby needed to be changedI love several things about the Thirsties including the awesome selection of available styles  The adjustability factor is great  When the baby grows you simply adjust them to fit  I8217d buy a few of these because even though you can wipe them in between changes my preference is for ultracleanThey do wash and dry up very quickly an especially good deal when you have that occasional messy smelly liquid problem  It happens to the best of us  You can pair these with the ASINB003LPUQOG  Stay Dry Duo Insert which are perfect for when you are out of the house for longer periods of time and can8217t change as often as you8217d likeFEATURES9658  New stronger and more durable hook  loop9658  For an AI2 diaper pair with ourStay Dry Duo Insert9658  Pliable breathable ultracomfortable waterproof fabric9658  Wipe wrap clean between diaper changes9658  Trim fit9658  Leg gussets for advanced leak protection9658  Grows with your baby so you only need two sizes from birth to potty9658 Available with hook  loop or snap closureThirsties also hasDuo Hemp Prefoldavailable if you haven8217t already purchased your cloth diapers  I opted for cloth diapers for several reasons but primarily I felt that they were better for my baby  Soft against the skin no diaper rash I knew exactly when to change and of course in the long run they were cost effectiveThe Thirsties would make a perfect shower gift that would be very much appreciated by the Mom who has indicated they want to use cloth  I8217ve never seen Thirsties diaper covers before but I8217m definitely sold on the fit the practical aspect and the style  PerfectTHIRSTIESStay Dry Duo InsertThirsties Duo Hemp PrefoldThirsties Fab WipeFab Doublers Soft Cotton VelourThirsties Booty Love Diaper OintmentThirsties Wet Diaper BagThirsties Diaper Pail Liner\n",
      "\n",
      "bought this stroller three years ago  now that we have two children i am looking at the double  i LOVE my mountain buggy  we lived in down town chicago for the first two years we had this stroller  we could walk to everything we needed so we didnt even keep our car in the city so i used this stroller everyday for everything  i abused and misused it and it still held up great  for instance the roomy under storage combined with the shopping bag strap near the handle bar held groceries for a family of four at least once a week for two years im positive i surpassed the weight limit many times  when i wasnt carting aroun my shopping it very easily held all baby supplies and frequently family picnic lunchesi liked the wobble suspension its means going on rough terrain is much more comfortable for baby also nice when they are fussy you can jiggle the stroller a bit as your walking to sooth them  after three years of almost daily use of at two to three miles per day the wheels have started to wear but have not needed to replace yet  i just occasionally pump them up with small hand pump that comes with the stroller  ive used it jumping city curbs and jogging on paved and unpaved routes although its not an extreme all terrain stroller a well used woodland path is finei didnt have a problem with it being too big as some people have said  its a bigger stroller bit i was never limited on where i could go even shopping in little boutiques or at crowded festivals  the only thing i didnt like to do by myself is try to get on the bus  you cant lift this safely by yourself with a baby in itstyle and function could not be beat by any other brand i saw  i was part of a moms group s i got to compare with lots of other strollers  a bugaboo for instance is fine if you stay on smooth sidewalks or are in a mall not walking in a city  the bob is an athletic performance stroller but its ugly  the BOB  logo can be seen from every angle because its on there like six times  my buggy is sleek and stylish and doesnt flash a brand which i likethe recline feature is great it goes virtually flat so even a very young baby can use it and my daughter slept very well in it easy to do ive even done it without stopping our walk  the brake is handy and reliable the safety strap is a must  just slips on your wrist  it folds up smoothly after practicing once or twice and is very easy to unfold  it fit easily in the trunk of a two door honda civici got the plastic rain cover which i think is a must if you will use it in the cold  chicago gets very cold and i was worried about getting out to do errands with my baby girl but a snuggly stroller bag and the rain cover kept her cozy in any weather even a february blizzardmy only complaint and its something that the bob beats it on i hate to say is that the sun shade should be bigger  i did have to use a blanket over the front certain times of day a bit of a pain  but i really do love this stroller lots of fond memories exploring chicago just me my daughter and our trusty mountain buggy\n"
     ]
    }
   ],
   "source": [
    "#c)\n",
    "ones_prob = result[:,1]\n",
    "minus_ones_prob = result[:,0]\n",
    "\n",
    "y_test_index = y_test.reset_index()\n",
    "\n",
    "most_positive_reviews_indices = y_test_index['index'][np.argpartition(ones_prob, -5)[-5:]]\n",
    "most_negative_reviews_indices = y_test_index['index'][np.argpartition(minus_ones_prob, 5)[:5]]\n",
    "\n",
    "most_positive_reviews = np.array(baby_df[\"review\"][most_positive_reviews_indices])\n",
    "most_negative_reviews = np.array(baby_df[\"review\"][most_negative_reviews_indices])\n",
    "\n",
    "print(f'****The most positive****')\n",
    "for review in most_positive_reviews:\n",
    "    print(f'\\n{review}')\n",
    "\n",
    "print(f'\\n\\n****The most negative****')\n",
    "for review in most_negative_reviews:\n",
    "    print(f'\\n{review}')\n",
    "\n",
    "#hint: use the results of b)"
   ]
  },
  {
   "cell_type": "code",
   "execution_count": 350,
   "metadata": {
    "collapsed": true,
    "ExecuteTime": {
     "end_time": "2023-12-08T16:23:46.080350800Z",
     "start_time": "2023-12-08T16:23:46.048867600Z"
    }
   },
   "outputs": [
    {
     "name": "stdout",
     "output_type": "stream",
     "text": [
      "Accuracy: 0.9292168072602247\n"
     ]
    }
   ],
   "source": [
    "#d)\n",
    "\n",
    "y_pred = model.predict(X_test)\n",
    "print(f'Accuracy: {sum([1 for x, y in zip(y_pred, y_test) if x == y]) / X_test.shape[0]}')\n",
    "\n"
   ]
  },
  {
   "cell_type": "markdown",
   "metadata": {},
   "source": [
    "## Exercise 5\n",
    "In this exercise we will limit the dictionary of CountVectorizer to the set of significant words, defined below.\n",
    "\n",
    "\n",
    "a) Redo exercises 2-5 using limited dictionary.   \n",
    "\n",
    "b) Check the impact of all the words from the dictionary.   \n",
    "c) Compare accuracy of predictions and the time of evaluation."
   ]
  },
  {
   "cell_type": "code",
   "execution_count": 351,
   "metadata": {
    "collapsed": true,
    "ExecuteTime": {
     "end_time": "2023-12-08T16:23:46.080350800Z",
     "start_time": "2023-12-08T16:23:46.069759100Z"
    }
   },
   "outputs": [],
   "source": [
    "significant_words = ['love','great','easy','old','little','perfect','loves','well','able','car','broke','less','even','waste','disappointed','work','product','money','would','return']"
   ]
  },
  {
   "cell_type": "code",
   "execution_count": 358,
   "metadata": {
    "collapsed": true,
    "ExecuteTime": {
     "end_time": "2023-12-08T16:24:31.411081Z",
     "start_time": "2023-12-08T16:24:24.351951900Z"
    }
   },
   "outputs": [
    {
     "data": {
      "text/plain": "<116726x20 sparse matrix of type '<class 'numpy.int64'>'\n\twith 256279 stored elements in Compressed Sparse Row format>"
     },
     "execution_count": 358,
     "metadata": {},
     "output_type": "execute_result"
    }
   ],
   "source": [
    "#a)\n",
    "X_train, X_test, y_train, y_test = train_test_split(baby_df['review'], baby_df['rating'], test_size=0.3, random_state=117)\n",
    "\n",
    "vectorizer = CountVectorizer(vocabulary=significant_words)\n",
    "X_train = vectorizer.fit_transform(X_train.astype('U'))\n",
    "X_test = vectorizer.transform(X_test.astype('U'))\n",
    "\n",
    "X_train"
   ]
  },
  {
   "cell_type": "code",
   "execution_count": 359,
   "outputs": [
    {
     "name": "stderr",
     "output_type": "stream",
     "text": [
      "D:\\Anaconda\\Lib\\site-packages\\sklearn\\utils\\validation.py:605: FutureWarning: is_sparse is deprecated and will be removed in a future version. Check `isinstance(dtype, pd.SparseDtype)` instead.\n",
      "  if is_sparse(pd_dtype):\n",
      "D:\\Anaconda\\Lib\\site-packages\\sklearn\\utils\\validation.py:614: FutureWarning: is_sparse is deprecated and will be removed in a future version. Check `isinstance(dtype, pd.SparseDtype)` instead.\n",
      "  if is_sparse(pd_dtype) or not is_extension_array_dtype(pd_dtype):\n",
      "[Parallel(n_jobs=4)]: Using backend LokyBackend with 4 concurrent workers.\n",
      "[Parallel(n_jobs=4)]: Done   1 out of   1 | elapsed:    0.0s finished\n"
     ]
    },
    {
     "data": {
      "text/plain": "LogisticRegression(max_iter=300, n_jobs=4, verbose=1)",
      "text/html": "<style>#sk-container-id-19 {color: black;background-color: white;}#sk-container-id-19 pre{padding: 0;}#sk-container-id-19 div.sk-toggleable {background-color: white;}#sk-container-id-19 label.sk-toggleable__label {cursor: pointer;display: block;width: 100%;margin-bottom: 0;padding: 0.3em;box-sizing: border-box;text-align: center;}#sk-container-id-19 label.sk-toggleable__label-arrow:before {content: \"▸\";float: left;margin-right: 0.25em;color: #696969;}#sk-container-id-19 label.sk-toggleable__label-arrow:hover:before {color: black;}#sk-container-id-19 div.sk-estimator:hover label.sk-toggleable__label-arrow:before {color: black;}#sk-container-id-19 div.sk-toggleable__content {max-height: 0;max-width: 0;overflow: hidden;text-align: left;background-color: #f0f8ff;}#sk-container-id-19 div.sk-toggleable__content pre {margin: 0.2em;color: black;border-radius: 0.25em;background-color: #f0f8ff;}#sk-container-id-19 input.sk-toggleable__control:checked~div.sk-toggleable__content {max-height: 200px;max-width: 100%;overflow: auto;}#sk-container-id-19 input.sk-toggleable__control:checked~label.sk-toggleable__label-arrow:before {content: \"▾\";}#sk-container-id-19 div.sk-estimator input.sk-toggleable__control:checked~label.sk-toggleable__label {background-color: #d4ebff;}#sk-container-id-19 div.sk-label input.sk-toggleable__control:checked~label.sk-toggleable__label {background-color: #d4ebff;}#sk-container-id-19 input.sk-hidden--visually {border: 0;clip: rect(1px 1px 1px 1px);clip: rect(1px, 1px, 1px, 1px);height: 1px;margin: -1px;overflow: hidden;padding: 0;position: absolute;width: 1px;}#sk-container-id-19 div.sk-estimator {font-family: monospace;background-color: #f0f8ff;border: 1px dotted black;border-radius: 0.25em;box-sizing: border-box;margin-bottom: 0.5em;}#sk-container-id-19 div.sk-estimator:hover {background-color: #d4ebff;}#sk-container-id-19 div.sk-parallel-item::after {content: \"\";width: 100%;border-bottom: 1px solid gray;flex-grow: 1;}#sk-container-id-19 div.sk-label:hover label.sk-toggleable__label {background-color: #d4ebff;}#sk-container-id-19 div.sk-serial::before {content: \"\";position: absolute;border-left: 1px solid gray;box-sizing: border-box;top: 0;bottom: 0;left: 50%;z-index: 0;}#sk-container-id-19 div.sk-serial {display: flex;flex-direction: column;align-items: center;background-color: white;padding-right: 0.2em;padding-left: 0.2em;position: relative;}#sk-container-id-19 div.sk-item {position: relative;z-index: 1;}#sk-container-id-19 div.sk-parallel {display: flex;align-items: stretch;justify-content: center;background-color: white;position: relative;}#sk-container-id-19 div.sk-item::before, #sk-container-id-19 div.sk-parallel-item::before {content: \"\";position: absolute;border-left: 1px solid gray;box-sizing: border-box;top: 0;bottom: 0;left: 50%;z-index: -1;}#sk-container-id-19 div.sk-parallel-item {display: flex;flex-direction: column;z-index: 1;position: relative;background-color: white;}#sk-container-id-19 div.sk-parallel-item:first-child::after {align-self: flex-end;width: 50%;}#sk-container-id-19 div.sk-parallel-item:last-child::after {align-self: flex-start;width: 50%;}#sk-container-id-19 div.sk-parallel-item:only-child::after {width: 0;}#sk-container-id-19 div.sk-dashed-wrapped {border: 1px dashed gray;margin: 0 0.4em 0.5em 0.4em;box-sizing: border-box;padding-bottom: 0.4em;background-color: white;}#sk-container-id-19 div.sk-label label {font-family: monospace;font-weight: bold;display: inline-block;line-height: 1.2em;}#sk-container-id-19 div.sk-label-container {text-align: center;}#sk-container-id-19 div.sk-container {/* jupyter's `normalize.less` sets `[hidden] { display: none; }` but bootstrap.min.css set `[hidden] { display: none !important; }` so we also need the `!important` here to be able to override the default hidden behavior on the sphinx rendered scikit-learn.org. See: https://github.com/scikit-learn/scikit-learn/issues/21755 */display: inline-block !important;position: relative;}#sk-container-id-19 div.sk-text-repr-fallback {display: none;}</style><div id=\"sk-container-id-19\" class=\"sk-top-container\"><div class=\"sk-text-repr-fallback\"><pre>LogisticRegression(max_iter=300, n_jobs=4, verbose=1)</pre><b>In a Jupyter environment, please rerun this cell to show the HTML representation or trust the notebook. <br />On GitHub, the HTML representation is unable to render, please try loading this page with nbviewer.org.</b></div><div class=\"sk-container\" hidden><div class=\"sk-item\"><div class=\"sk-estimator sk-toggleable\"><input class=\"sk-toggleable__control sk-hidden--visually\" id=\"sk-estimator-id-19\" type=\"checkbox\" checked><label for=\"sk-estimator-id-19\" class=\"sk-toggleable__label sk-toggleable__label-arrow\">LogisticRegression</label><div class=\"sk-toggleable__content\"><pre>LogisticRegression(max_iter=300, n_jobs=4, verbose=1)</pre></div></div></div></div></div>"
     },
     "execution_count": 359,
     "metadata": {},
     "output_type": "execute_result"
    }
   ],
   "source": [
    "simple_model = LogisticRegression(max_iter=300, verbose=1, n_jobs=4)\n",
    "\n",
    "simple_model.fit(X_train, y_train)"
   ],
   "metadata": {
    "collapsed": false,
    "ExecuteTime": {
     "end_time": "2023-12-08T16:24:34.505759200Z",
     "start_time": "2023-12-08T16:24:33.340953500Z"
    }
   }
  },
  {
   "cell_type": "code",
   "execution_count": 354,
   "outputs": [
    {
     "name": "stdout",
     "output_type": "stream",
     "text": [
      "[[ 1.35243318  0.92049801  1.17721726  0.1014735   0.49700554  1.45864627\n",
      "   1.67847724  0.49962968  0.20382521  0.07720214 -1.69448849 -0.19128761\n",
      "  -0.52732117 -2.05375238 -2.38047283 -0.64254248 -0.3041989  -0.88540029\n",
      "  -0.33833047 -2.02408438]]\n",
      "\n",
      "10 most positive words:\n",
      "['car' 'great' 'able' 'well' 'loves' 'perfect' 'little' 'old' 'easy'\n",
      " 'love']\n",
      "\n",
      "10 most negative words:\n",
      "['broke' 'return' 'would' 'money' 'product' 'work' 'disappointed' 'waste'\n",
      " 'even' 'less']\n"
     ]
    }
   ],
   "source": [
    "print(simple_model.coef_)\n",
    "top_positive_coef_index = np.argpartition(simple_model.coef_[0], -10)[-10:]\n",
    "top_negative_coef_index = np.argpartition(simple_model.coef_[0], 10)[:10]\n",
    "\n",
    "top_positive_coef = vectorizer.get_feature_names_out()[top_positive_coef_index]\n",
    "top_negative_coef = vectorizer.get_feature_names_out()[top_negative_coef_index]\n",
    "\n",
    "\n",
    "print(f'\\n10 most positive words:\\n{top_positive_coef}')\n",
    "print(f'\\n10 most negative words:\\n{top_negative_coef}')"
   ],
   "metadata": {
    "collapsed": false,
    "ExecuteTime": {
     "end_time": "2023-12-08T16:23:53.832353900Z",
     "start_time": "2023-12-08T16:23:53.826283800Z"
    }
   }
  },
  {
   "cell_type": "code",
   "execution_count": 360,
   "outputs": [
    {
     "name": "stdout",
     "output_type": "stream",
     "text": [
      "[1 1 1 ... 1 1 1]\n",
      "[[0.0029949  0.9970051 ]\n",
      " [0.05626221 0.94373779]\n",
      " [0.13265557 0.86734443]\n",
      " ...\n",
      " [0.04107997 0.95892003]\n",
      " [0.18813909 0.81186091]\n",
      " [0.02520938 0.97479062]]\n"
     ]
    }
   ],
   "source": [
    "print(simple_model.predict(X_test))\n",
    "result = simple_model.predict_proba(X_test)\n",
    "print(result)"
   ],
   "metadata": {
    "collapsed": false,
    "ExecuteTime": {
     "end_time": "2023-12-08T16:24:36.567167400Z",
     "start_time": "2023-12-08T16:24:36.556921700Z"
    }
   }
  },
  {
   "cell_type": "code",
   "execution_count": 361,
   "outputs": [
    {
     "name": "stdout",
     "output_type": "stream",
     "text": [
      "****The most positive****\n",
      "\n",
      "My husband and I did COPIOUS research for car seats before finally purchasing this one for my car and the Diono Radian RXT for his car  We also looked at the Clek Foonf and Recaro ProRide  We knew we wanted extending rear facing seats so that is how we narrowed our search to just these seats  We also wanted something that was solidly built so that eliminated many of the cheaper seatsHeres the run down1 Peg Perego Premium Convertible Car SeatWhat we LIKED VERY well built solid seat RF to 45lbs FF to 70lbs or 4934 though your child will likely outgrow this seat in height before weight    the average 6 year old is 4934 Easy clean fabric fresco jersey SUPER SAFE shock absorbing foam that crumples upon impact though I hope we never test this SUPER QUICK AND EASY to install  I cant underscore this enough  For RF I just stand behind the seat leaning into it click the two latch straps into place then rock side to side while cinching the straps tight  With this method it DOES NOT WOBBLE AT ALL  I did have to insert a small towel under the base to get the right recline angle but the leveling line provided on the side of the seat makes it SUPER EASY  I have not installed it FF yet but that should be even easier SUPER LIGHT so combined with ease of install I can move it from one car to another in about 2 minutes Our kid is high up so he can see out the windows and he likes that Seat comes with nice extra padding for smaller babies under 22lbs so we felt safe using it with our little guy we did however use an infant carrier seat from 718lbs up to 3034 The head rest part is the BEST on any seat we looked at  Our kids head does not drop forward when he falls asleep AND the shoulder straps automatically rise in height as you raise the headrest so there is NO RETHREAD  Super easy to make sure everything is at the right height for your kiddo IT FITS RF behind the passenger seat in our TINY Saturn Ion sedan seriously tiny backseat area with enough room for a person to still sit in the front seat with it slightly reclinedWhat we DONT LIKE The seat does sit tall so I have to tilt my son backwards and then into the seat like a torpedo to clear the door frame this could be specific to our extremely small car      I see this being a problem as he gets bigger he is only 3034 right now  This seat seems like it will not be conducive to him climbing into it himself  This seat comes with very LONG shoulder pads that you will not be able to use with a small child I am thinking under 3 because they will prevent you from getting the chest strap up to your childs armpit level design flaw  We purchased after market smaller pads to correct this problem I am concerned that our little guy will outgrow this seat RF in height looooong before he does in weight you can only use the headrest RF in the first as you can only use the first 7 headrest positions RF The PRICE ouch  But then again you get what you pay for and in this seat you really are getting a premium productThe bottom line We picked this seat because it fit our car well and was quick and easy to install from one car to another2 Diono Radian RXTWhat we LIKED This is a well built SOLID seat HIGH weight AND height limits for RF 45lbs or 5734 and FF 80lbs 5point harness  120lbs high back booster Seat sits low so our son can climb inout of it himself Seat also has a narrow footprint so you can fit three across or fit an infant seat right next to it    important because although we have this seat in the center now we plan to put our next child in the center and move this one over to the window at that point Comes with SUPER great shoulder pads that encase the chest clip SO THAT IT CANT SLIDE DOWN  I cant underscore how great of a feature this is The rest of the seat has great padding too  Comes with infant insert though we used an infant seat to 3034 head wings easily adjust up and down and make napping in the car oh so comfy for our son  His head never droops forward We love the easy clean fabricWhat we DONT LIKE This seat is HEAVY 24lbs  It DOES fold for travel and IS airline certified but we would be hard pressed to bring this seat along It was a bit tricky to get it installed correctly ie without a wobble  see my Diono Radian Review for tips and takes a bit of time to install even now that we have a system  You would not move it from car to car easily This is a con and a pro  This seat is very tall  It will fit our child well when they are older but for RF it is waaay more height than we need right now3 Clek FOONFWhat we LIKED This is a super SOLID seat  Well built You can just wipe this fabric clean and it is water repellent We love the RIGID latch just click it in and go no straps to tighten It is very cool that you can change the angle of recline in FF mode WHILE the seat is installed so if your child falls asleep you can recline it somewhat Another seat with very high limits RF 254334 1450lbs and FF 304934 2065lbs Has a crumple zone built in Has actual tested side impact safety most seats brag this but it is not testedWhat we DIDNT LIKE This seat is HEAVY 32lbs  The heaviest one we looked at  Even though it is SUPER QUICK AND EASY to install you would be hard pressed to move this from car to car or take it for airline travel    though Clek does sell a duffle for it This seat is also very tall and we found it challenging to get our son in and out of it when it was installed next to a window in our sedan It is also the most expensive seat we looked at at 400 The clincher for us to NOT buy this seat however was that the crotch strap that you clip the shoulder straps into is very very short and we felt that it would not fit our son appropriately after the first two years ie it would be way down between his thighs in an uncomfortable way4 Recaro ProRideWhat we liked This seat is cool  It is designed by a company that makes race car restraints This seat was the most affordable of the four that we looked at Yet another seat with high RF 5034 or 40lbs and FF 70lbs This seat is light 20lbsWhat we didnt like This seat is HUGE  By far the biggest of the four  You would not be able to fit another seat directly next to this one as it is 1934 wide the Radian and the Foonf are both 1734 We could not find a position to install this seat in any of our cars that worked too big to go behind the driver or passenger seats too tall to go in the center and blocked the rear view mirror When we looked at this seat in person it just looked cheap  The fabric felt cheap it felt loosely attached to the frame the padding all felt thin This IS a nice seat and a lot of people really like it but we felt that it didnt stack up in comparison to the three above seats  It IS nicer than most seats youll find at the big box storesNOTE You may wonder why Britax such a notable name is missing from our list  We did not even consider that Brand an option because the baby expert we were working with alerted us to the toxic chemicals used in the dyes for the red and black Britax seats  We did not want a tan seat so that eliminated this Brand as an option for us  We felt that our kiddo would be spending too much time in a car seat to be breathing toxic fumesThe bottom line The best seat is the one that fits in YOUR car and that YOU can install and restrain your child in correctly every time  Try these for yourself\n",
      "\n",
      "UPDATE 25 years in and we still love it  We have a new baby we are getting ready to use it on too  Our eldest still loves riding it too  Its just so comfortable has such a great canopy and has held up really well  So happy we spent the money to get such a good stroller  One thing Ive noticed is that a lot of umbrella strollers are really short and parents hunch over when walking  This is not the case with this one  So much more comfortable since handles are at a good height for my 56 frame and my husbands 61 frameUPDATE 4 Months in and we still could not be happier with this stroller  It works great and we have had zero problems  Our daughter loves it tooWe are absolutely in love with this stroller  We looked at MANY strollers before deciding on this one  I browsed on line for weeks read reviews and almost ordered a different one online before deciding I needed to see them in person  We checked them all out  I originally thought Id get a cheap one like 50 or less but decided you really do get what you pay for  Others in the 100130 range just felt cheaper  We finally narrowed it down between this one and the McLaren Triumph  I had heard great things about the McLarens but I wasnt as impressed in person  They are pretty pricey and seemed to bulky imo  So we chose this onePros Steersdrives great  Even though its a two handle stroller it pushes pretty well one handedunlike most two handle strollers Reclines this was important to us as our daughter is only 7 months old  Its great when we are out shopping she can easily lay back for a nap or sit up if she wants to see whats going on Sunshade It has an extendable UV blocker  I love it for blocking the sun but if its windy it also works as a great wind blocker since it can come down so far  I have even used to to keep her a little more covered if she is sleeping while shopping  Helps keep prying eyes and hands at a distance Harness  Again we needed a harness not just a buckle Super light Its only 11 pounds  I can pick up with onehanded ease Stands up while folded Not only does it fold easily takes twohands but has a easy lift safety lock and doesnt require your foot to help but it stands while folded Unfolds easily One simple handle opens on the left side to open then you press down on the provided foot pedal to lock it in place Can stay with us for a long time Its good quality and can hold up to 50 pounds I think  I have a feeling we will be using this well into toddler hood Nice material very soft doesnt feel cheapCons Price On the pricier side of umbrella strollers but like I said before you get what you pay for  It really is worth it in my opinion Basket is kind of small and a little hard to get to if the seat is reclined  However I found this to be true for just about every umbrella stroller I looked at  Therefore I didnt deduct for thisLastly We bought this one in early 2012  I believe whatever problem people were having before has been fixed  This one was not a part of that recall and we have not had a problem with it collapsing\n",
      "\n",
      "Weve been using Britax for our boy now 14 months old since his very first moments leaving the hospital  Thankfully cost was not part of our consideration so we went with the best seat we could find  Britax has been good but I wish we had found the Pria  Its a terrific car seatThree best parts so far1  Head control2  Style3  Cup holder4  Soft easy to clean fabricHead control  My biggest concern with other car seats has been his head  When our son sleeps in the car he tilts his head to the side much like my father does now  But with my Dad I dont worry too much because he always seems to wake up after a few minutes and straighten out  But babies dont seem to do that well and Ive been concerned that hes closing off airway or blood to his head  Im not a doctor but it doesnt look good to me  Weve tried rolling his little blanket and stuffing it by his neck like an airplane pillowto no avail  He just tosses it on the seat  This seat has a great system for controlling his headStyle  This seat is attractive  We never used the infant insert but it has an elegant shape to it  The rest of the seat looks good too  I know its not a big concern but I do appreciate great designCup holder  It has a perfectly placed cup holder  We use the Uppababy stroller and it has a great tray where our son has become used to storing his cell phone and other things  Without a cup holder close to his hands in our car everything sits between his knees which makes it all tough to reach  Prias solution is perfect and I dont find myself reaching into the back seat as muchGreat fabric  We love the soft feel of this seat  Its almost like a good pillow  And the fabric has proven quite easy to cleanOverall were thrilled with the seatHope you enjoy yours tooPhilUPDATE Its been over a year now and we remain thrilled with this seat We kept the Britax so wed have an extra seat in the car for James friends to ride together with us Night and day this seat remains the hands down winner for easy buckling in easy cleaning and comfort And the cup holder continues to be the perfect place for drinks snacks or a little toy carWasnt sure this seat would make it this long as the fabric doesnt feel as tough as the Britax But it sure has Whatever they used is as easy to work with now as the day this one arrived And remains easy to clean Were having another one soon so the Britax will be moving to the middle seat to make room for another MaxiCosiAny recommendations on a new color\n",
      "\n",
      "We bought this stroller about 2 weeks ago I absolutely love it I have a 3 year old and a 5 month old They both fit in the stroller great My 3 yr old was so excited about this stroller He loves the color blue the canopies the UV shade everything He is looking forward to using the boot this winter I love love love the big basket Yes there is a bar across it However I am able to get a backpack in over the bar To take it out we just unsnap the back of the basket and pull the backpack under the bar It really is easy The stroller steers well I have not noticed it pulling to one side despite the 15 pound weight difference between my boys We have not used the rain shield but the UV shade is great The canopy will cover the whole front of the stroller but the UV shade keeps the boys shady when they want to be able to look out The infant boot works well It is meant to go across the whole front but is possible to use it on just one side The harness is easy to adjust We were using the Combi Citty Savvy single It had the worst harness adjusters The Maclaren Techno uses the same crappy adjusters On the Tango you just slide the clip up or down It is simple and it stays put The harness fits both of my boys The seats recline nicely the canopies are huge The stroller is easy to steer and the handle is comfortable I have done a little onehanded steering but that is not easy It is a double stroller after all The Tango is a great looking stroller I have read reviews in which people talked about wanting a stroller that looked good I thought that was silly However we have gotten so many comments on this stroller I have to admit that it is a little flattering Silly but true Someone complained about having trouble opening the stroller It is challenging at first We finally figured out that you have to push down on the little handle on the side of the stroller You pull that handle to close it and push it to open it Once you figure that out it is super easy to open My one complaint is that the stroller is pretty large when folded I have two carseats tethered in the back of my 2004 Odyssey In order to get the stroller in I have to loosen one of the tethers first We put the stroller under the tether then tighten the tether I am able to fit bags in front of and beside the stroller but it takes up A LOT of room We are going out of town later this month and I have no idea how I am going to fit in our luggage with the stroller I am considering strapping the stroller on the roof So if a small fold is a must go with the Combi or McLaren I thought both of those were rather flimsy though The McLaren was VERY narrow and had shallow seats We decided we would just live with the large fold and get the Zooper I am SO glad we did It is well worth the money\n",
      "\n",
      "I was very excited when I heard Chicco was finally coming out with a double stroller I was initially against any double stroller I just didnt want to mess with it But when our daughter was 25 years and our son was four months we were taking a month long trip abroad and I knew we wouldnt be able to corral both kids without one The Cortina Together worked wonderfully for what we needed We already had a Chicco car seat and Trevi so we knew we liked Chicco And I wanted both kids to be able to sit comfortably I knew a sit and stand would be lighter but didnt want my twoyearold to have to stand or sit on an uncomfortable tiny seat all the time After hauling this thing all over Europe here is why I love this strollerYou can easily snap the Chicco car seat into it I love that you can place it in the front seat or back seat When we want more control of our toddler we place her in the back and baby in the front But when we are just enjoying a walk she loves sitting in the front to see better and hop in and out on her own It is also a great feature that the rear seat fully reclines This is nice for a napping toddler and makes a great bassinet for a sleeping babyThe basket underneath is very large and very accessible Adding the zippered front is a huge help to be able to access things even when the back seat is fully reclined I was able to easily carry diaper bags luggage groceries etc in that thing I also like that the basket stretches in front of the rear seat If our daughter dropped anything it caught it which is nice when you are running to catch a train and not keeping track of everythingThe canopies work well They arent large but the fact that they adjust so easily means you can keep your children covered from rain or keep the sun out of their eyes no matter what angle I also love having the two cup holders for mom and dad as well as the two cup holders on the front seat A con however is that there are no cup holders for the back seat And the two cup holders on the front can be switched which is nice But if you have them turned out you cant fold the canopy up when the stroller is folded and if you have them turned in you cant fold the front seat down to accommodate the car seat But this is super easy to adjust The seats move very easily as well  one hand adjustment The brakes and wheel locks are great and easy tooEven with its large size the stroller turns on a dime The handle bar adjusts easily for pushers of different heights Sometimes we found the stroller can be a little tricky to fold up  the lock only requires one hand but you have to maneuver the stroller just right to get it to collapse on itself When folded up though its not too huge  it easily fits in our Honda CVR no problem Its great for on the go easy to set up  no adjustments neededThe stroller proved to be very durable  considering we hauled it on and off planes and trains as well as up and down cobblestone streets and offroad Like others have said it is heavy but it is a double stroller thats what you get It is lighter than many options though My close friend has a Graco double and she is super jealous of our Chicco One other negative is theres no handle or really great place to grab the stroller to carry it when its folded up The feature that allows it to still roll when folded is nice but obviously doesnt help when you are going up stairsI truly love this stroller and I would highly recommend it to anyone Coming from one mommy who didnt especially want a double is only five feet tall and not very strong but realized she needed it I would never use another double stroller This is the way to go\n",
      "\n",
      "\n",
      "****The most negative****\n",
      "\n",
      "UPDATE 25 years in and we still love it  We have a new baby we are getting ready to use it on too  Our eldest still loves riding it too  Its just so comfortable has such a great canopy and has held up really well  So happy we spent the money to get such a good stroller  One thing Ive noticed is that a lot of umbrella strollers are really short and parents hunch over when walking  This is not the case with this one  So much more comfortable since handles are at a good height for my 56 frame and my husbands 61 frameUPDATE 4 Months in and we still could not be happier with this stroller  It works great and we have had zero problems  Our daughter loves it tooWe are absolutely in love with this stroller  We looked at MANY strollers before deciding on this one  I browsed on line for weeks read reviews and almost ordered a different one online before deciding I needed to see them in person  We checked them all out  I originally thought Id get a cheap one like 50 or less but decided you really do get what you pay for  Others in the 100130 range just felt cheaper  We finally narrowed it down between this one and the McLaren Triumph  I had heard great things about the McLarens but I wasnt as impressed in person  They are pretty pricey and seemed to bulky imo  So we chose this onePros Steersdrives great  Even though its a two handle stroller it pushes pretty well one handedunlike most two handle strollers Reclines this was important to us as our daughter is only 7 months old  Its great when we are out shopping she can easily lay back for a nap or sit up if she wants to see whats going on Sunshade It has an extendable UV blocker  I love it for blocking the sun but if its windy it also works as a great wind blocker since it can come down so far  I have even used to to keep her a little more covered if she is sleeping while shopping  Helps keep prying eyes and hands at a distance Harness  Again we needed a harness not just a buckle Super light Its only 11 pounds  I can pick up with onehanded ease Stands up while folded Not only does it fold easily takes twohands but has a easy lift safety lock and doesnt require your foot to help but it stands while folded Unfolds easily One simple handle opens on the left side to open then you press down on the provided foot pedal to lock it in place Can stay with us for a long time Its good quality and can hold up to 50 pounds I think  I have a feeling we will be using this well into toddler hood Nice material very soft doesnt feel cheapCons Price On the pricier side of umbrella strollers but like I said before you get what you pay for  It really is worth it in my opinion Basket is kind of small and a little hard to get to if the seat is reclined  However I found this to be true for just about every umbrella stroller I looked at  Therefore I didnt deduct for thisLastly We bought this one in early 2012  I believe whatever problem people were having before has been fixed  This one was not a part of that recall and we have not had a problem with it collapsing\n",
      "\n",
      "My husband and I did COPIOUS research for car seats before finally purchasing this one for my car and the Diono Radian RXT for his car  We also looked at the Clek Foonf and Recaro ProRide  We knew we wanted extending rear facing seats so that is how we narrowed our search to just these seats  We also wanted something that was solidly built so that eliminated many of the cheaper seatsHeres the run down1 Peg Perego Premium Convertible Car SeatWhat we LIKED VERY well built solid seat RF to 45lbs FF to 70lbs or 4934 though your child will likely outgrow this seat in height before weight    the average 6 year old is 4934 Easy clean fabric fresco jersey SUPER SAFE shock absorbing foam that crumples upon impact though I hope we never test this SUPER QUICK AND EASY to install  I cant underscore this enough  For RF I just stand behind the seat leaning into it click the two latch straps into place then rock side to side while cinching the straps tight  With this method it DOES NOT WOBBLE AT ALL  I did have to insert a small towel under the base to get the right recline angle but the leveling line provided on the side of the seat makes it SUPER EASY  I have not installed it FF yet but that should be even easier SUPER LIGHT so combined with ease of install I can move it from one car to another in about 2 minutes Our kid is high up so he can see out the windows and he likes that Seat comes with nice extra padding for smaller babies under 22lbs so we felt safe using it with our little guy we did however use an infant carrier seat from 718lbs up to 3034 The head rest part is the BEST on any seat we looked at  Our kids head does not drop forward when he falls asleep AND the shoulder straps automatically rise in height as you raise the headrest so there is NO RETHREAD  Super easy to make sure everything is at the right height for your kiddo IT FITS RF behind the passenger seat in our TINY Saturn Ion sedan seriously tiny backseat area with enough room for a person to still sit in the front seat with it slightly reclinedWhat we DONT LIKE The seat does sit tall so I have to tilt my son backwards and then into the seat like a torpedo to clear the door frame this could be specific to our extremely small car      I see this being a problem as he gets bigger he is only 3034 right now  This seat seems like it will not be conducive to him climbing into it himself  This seat comes with very LONG shoulder pads that you will not be able to use with a small child I am thinking under 3 because they will prevent you from getting the chest strap up to your childs armpit level design flaw  We purchased after market smaller pads to correct this problem I am concerned that our little guy will outgrow this seat RF in height looooong before he does in weight you can only use the headrest RF in the first as you can only use the first 7 headrest positions RF The PRICE ouch  But then again you get what you pay for and in this seat you really are getting a premium productThe bottom line We picked this seat because it fit our car well and was quick and easy to install from one car to another2 Diono Radian RXTWhat we LIKED This is a well built SOLID seat HIGH weight AND height limits for RF 45lbs or 5734 and FF 80lbs 5point harness  120lbs high back booster Seat sits low so our son can climb inout of it himself Seat also has a narrow footprint so you can fit three across or fit an infant seat right next to it    important because although we have this seat in the center now we plan to put our next child in the center and move this one over to the window at that point Comes with SUPER great shoulder pads that encase the chest clip SO THAT IT CANT SLIDE DOWN  I cant underscore how great of a feature this is The rest of the seat has great padding too  Comes with infant insert though we used an infant seat to 3034 head wings easily adjust up and down and make napping in the car oh so comfy for our son  His head never droops forward We love the easy clean fabricWhat we DONT LIKE This seat is HEAVY 24lbs  It DOES fold for travel and IS airline certified but we would be hard pressed to bring this seat along It was a bit tricky to get it installed correctly ie without a wobble  see my Diono Radian Review for tips and takes a bit of time to install even now that we have a system  You would not move it from car to car easily This is a con and a pro  This seat is very tall  It will fit our child well when they are older but for RF it is waaay more height than we need right now3 Clek FOONFWhat we LIKED This is a super SOLID seat  Well built You can just wipe this fabric clean and it is water repellent We love the RIGID latch just click it in and go no straps to tighten It is very cool that you can change the angle of recline in FF mode WHILE the seat is installed so if your child falls asleep you can recline it somewhat Another seat with very high limits RF 254334 1450lbs and FF 304934 2065lbs Has a crumple zone built in Has actual tested side impact safety most seats brag this but it is not testedWhat we DIDNT LIKE This seat is HEAVY 32lbs  The heaviest one we looked at  Even though it is SUPER QUICK AND EASY to install you would be hard pressed to move this from car to car or take it for airline travel    though Clek does sell a duffle for it This seat is also very tall and we found it challenging to get our son in and out of it when it was installed next to a window in our sedan It is also the most expensive seat we looked at at 400 The clincher for us to NOT buy this seat however was that the crotch strap that you clip the shoulder straps into is very very short and we felt that it would not fit our son appropriately after the first two years ie it would be way down between his thighs in an uncomfortable way4 Recaro ProRideWhat we liked This seat is cool  It is designed by a company that makes race car restraints This seat was the most affordable of the four that we looked at Yet another seat with high RF 5034 or 40lbs and FF 70lbs This seat is light 20lbsWhat we didnt like This seat is HUGE  By far the biggest of the four  You would not be able to fit another seat directly next to this one as it is 1934 wide the Radian and the Foonf are both 1734 We could not find a position to install this seat in any of our cars that worked too big to go behind the driver or passenger seats too tall to go in the center and blocked the rear view mirror When we looked at this seat in person it just looked cheap  The fabric felt cheap it felt loosely attached to the frame the padding all felt thin This IS a nice seat and a lot of people really like it but we felt that it didnt stack up in comparison to the three above seats  It IS nicer than most seats youll find at the big box storesNOTE You may wonder why Britax such a notable name is missing from our list  We did not even consider that Brand an option because the baby expert we were working with alerted us to the toxic chemicals used in the dyes for the red and black Britax seats  We did not want a tan seat so that eliminated this Brand as an option for us  We felt that our kiddo would be spending too much time in a car seat to be breathing toxic fumesThe bottom line The best seat is the one that fits in YOUR car and that YOU can install and restrain your child in correctly every time  Try these for yourself\n",
      "\n",
      "I was very excited when I heard Chicco was finally coming out with a double stroller I was initially against any double stroller I just didnt want to mess with it But when our daughter was 25 years and our son was four months we were taking a month long trip abroad and I knew we wouldnt be able to corral both kids without one The Cortina Together worked wonderfully for what we needed We already had a Chicco car seat and Trevi so we knew we liked Chicco And I wanted both kids to be able to sit comfortably I knew a sit and stand would be lighter but didnt want my twoyearold to have to stand or sit on an uncomfortable tiny seat all the time After hauling this thing all over Europe here is why I love this strollerYou can easily snap the Chicco car seat into it I love that you can place it in the front seat or back seat When we want more control of our toddler we place her in the back and baby in the front But when we are just enjoying a walk she loves sitting in the front to see better and hop in and out on her own It is also a great feature that the rear seat fully reclines This is nice for a napping toddler and makes a great bassinet for a sleeping babyThe basket underneath is very large and very accessible Adding the zippered front is a huge help to be able to access things even when the back seat is fully reclined I was able to easily carry diaper bags luggage groceries etc in that thing I also like that the basket stretches in front of the rear seat If our daughter dropped anything it caught it which is nice when you are running to catch a train and not keeping track of everythingThe canopies work well They arent large but the fact that they adjust so easily means you can keep your children covered from rain or keep the sun out of their eyes no matter what angle I also love having the two cup holders for mom and dad as well as the two cup holders on the front seat A con however is that there are no cup holders for the back seat And the two cup holders on the front can be switched which is nice But if you have them turned out you cant fold the canopy up when the stroller is folded and if you have them turned in you cant fold the front seat down to accommodate the car seat But this is super easy to adjust The seats move very easily as well  one hand adjustment The brakes and wheel locks are great and easy tooEven with its large size the stroller turns on a dime The handle bar adjusts easily for pushers of different heights Sometimes we found the stroller can be a little tricky to fold up  the lock only requires one hand but you have to maneuver the stroller just right to get it to collapse on itself When folded up though its not too huge  it easily fits in our Honda CVR no problem Its great for on the go easy to set up  no adjustments neededThe stroller proved to be very durable  considering we hauled it on and off planes and trains as well as up and down cobblestone streets and offroad Like others have said it is heavy but it is a double stroller thats what you get It is lighter than many options though My close friend has a Graco double and she is super jealous of our Chicco One other negative is theres no handle or really great place to grab the stroller to carry it when its folded up The feature that allows it to still roll when folded is nice but obviously doesnt help when you are going up stairsI truly love this stroller and I would highly recommend it to anyone Coming from one mommy who didnt especially want a double is only five feet tall and not very strong but realized she needed it I would never use another double stroller This is the way to go\n",
      "\n",
      "Weve been using Britax for our boy now 14 months old since his very first moments leaving the hospital  Thankfully cost was not part of our consideration so we went with the best seat we could find  Britax has been good but I wish we had found the Pria  Its a terrific car seatThree best parts so far1  Head control2  Style3  Cup holder4  Soft easy to clean fabricHead control  My biggest concern with other car seats has been his head  When our son sleeps in the car he tilts his head to the side much like my father does now  But with my Dad I dont worry too much because he always seems to wake up after a few minutes and straighten out  But babies dont seem to do that well and Ive been concerned that hes closing off airway or blood to his head  Im not a doctor but it doesnt look good to me  Weve tried rolling his little blanket and stuffing it by his neck like an airplane pillowto no avail  He just tosses it on the seat  This seat has a great system for controlling his headStyle  This seat is attractive  We never used the infant insert but it has an elegant shape to it  The rest of the seat looks good too  I know its not a big concern but I do appreciate great designCup holder  It has a perfectly placed cup holder  We use the Uppababy stroller and it has a great tray where our son has become used to storing his cell phone and other things  Without a cup holder close to his hands in our car everything sits between his knees which makes it all tough to reach  Prias solution is perfect and I dont find myself reaching into the back seat as muchGreat fabric  We love the soft feel of this seat  Its almost like a good pillow  And the fabric has proven quite easy to cleanOverall were thrilled with the seatHope you enjoy yours tooPhilUPDATE Its been over a year now and we remain thrilled with this seat We kept the Britax so wed have an extra seat in the car for James friends to ride together with us Night and day this seat remains the hands down winner for easy buckling in easy cleaning and comfort And the cup holder continues to be the perfect place for drinks snacks or a little toy carWasnt sure this seat would make it this long as the fabric doesnt feel as tough as the Britax But it sure has Whatever they used is as easy to work with now as the day this one arrived And remains easy to clean Were having another one soon so the Britax will be moving to the middle seat to make room for another MaxiCosiAny recommendations on a new color\n",
      "\n",
      "We bought this stroller about 2 weeks ago I absolutely love it I have a 3 year old and a 5 month old They both fit in the stroller great My 3 yr old was so excited about this stroller He loves the color blue the canopies the UV shade everything He is looking forward to using the boot this winter I love love love the big basket Yes there is a bar across it However I am able to get a backpack in over the bar To take it out we just unsnap the back of the basket and pull the backpack under the bar It really is easy The stroller steers well I have not noticed it pulling to one side despite the 15 pound weight difference between my boys We have not used the rain shield but the UV shade is great The canopy will cover the whole front of the stroller but the UV shade keeps the boys shady when they want to be able to look out The infant boot works well It is meant to go across the whole front but is possible to use it on just one side The harness is easy to adjust We were using the Combi Citty Savvy single It had the worst harness adjusters The Maclaren Techno uses the same crappy adjusters On the Tango you just slide the clip up or down It is simple and it stays put The harness fits both of my boys The seats recline nicely the canopies are huge The stroller is easy to steer and the handle is comfortable I have done a little onehanded steering but that is not easy It is a double stroller after all The Tango is a great looking stroller I have read reviews in which people talked about wanting a stroller that looked good I thought that was silly However we have gotten so many comments on this stroller I have to admit that it is a little flattering Silly but true Someone complained about having trouble opening the stroller It is challenging at first We finally figured out that you have to push down on the little handle on the side of the stroller You pull that handle to close it and push it to open it Once you figure that out it is super easy to open My one complaint is that the stroller is pretty large when folded I have two carseats tethered in the back of my 2004 Odyssey In order to get the stroller in I have to loosen one of the tethers first We put the stroller under the tether then tighten the tether I am able to fit bags in front of and beside the stroller but it takes up A LOT of room We are going out of town later this month and I have no idea how I am going to fit in our luggage with the stroller I am considering strapping the stroller on the roof So if a small fold is a must go with the Combi or McLaren I thought both of those were rather flimsy though The McLaren was VERY narrow and had shallow seats We decided we would just live with the large fold and get the Zooper I am SO glad we did It is well worth the money\n"
     ]
    }
   ],
   "source": [
    "# Reviews\n",
    "\n",
    "ones_prob = result[:,1]\n",
    "minus_ones_prob = result[:,0]\n",
    "\n",
    "y_test_index = y_test.reset_index()\n",
    "\n",
    "most_positive_reviews_indices = y_test_index['index'][np.argpartition(ones_prob, -5)[-5:]]\n",
    "most_negative_reviews_indices = y_test_index['index'][np.argpartition(minus_ones_prob, 5)[:5]]\n",
    "\n",
    "most_positive_reviews = np.array(baby_df[\"review\"][most_positive_reviews_indices])\n",
    "most_negative_reviews = np.array(baby_df[\"review\"][most_negative_reviews_indices])\n",
    "\n",
    "print(f'****The most positive****')\n",
    "for review in most_positive_reviews:\n",
    "    print(f'\\n{review}')\n",
    "\n",
    "print(f'\\n\\n****The most negative****')\n",
    "for review in most_negative_reviews:\n",
    "    print(f'\\n{review}')"
   ],
   "metadata": {
    "collapsed": false,
    "ExecuteTime": {
     "end_time": "2023-12-08T16:24:42.927625800Z",
     "start_time": "2023-12-08T16:24:42.917185300Z"
    }
   }
  },
  {
   "cell_type": "code",
   "execution_count": 362,
   "outputs": [
    {
     "name": "stdout",
     "output_type": "stream",
     "text": [
      "Accuracy: 0.8676288330068365\n"
     ]
    }
   ],
   "source": [
    "y_pred = simple_model.predict(X_test)\n",
    "print(f'Accuracy: {sum([1 for x, y in zip(y_pred, y_test) if x == y]) / X_test.shape[0]}')\n"
   ],
   "metadata": {
    "collapsed": false,
    "ExecuteTime": {
     "end_time": "2023-12-08T16:24:44.929568400Z",
     "start_time": "2023-12-08T16:24:44.917907900Z"
    }
   }
  },
  {
   "cell_type": "code",
   "execution_count": 363,
   "metadata": {
    "collapsed": true,
    "ExecuteTime": {
     "end_time": "2023-12-08T16:24:46.530807700Z",
     "start_time": "2023-12-08T16:24:46.518728200Z"
    }
   },
   "outputs": [
    {
     "name": "stdout",
     "output_type": "stream",
     "text": [
      "love\t\t\t : \t\t\t 1.3524331829934642\n",
      "great\t\t\t : \t\t\t 0.9204980111412695\n",
      "easy\t\t\t : \t\t\t 1.1772172633468225\n",
      "old\t\t\t : \t\t\t 0.10147349500384725\n",
      "little\t\t\t : \t\t\t 0.4970055407163873\n",
      "perfect\t\t\t : \t\t\t 1.4586462701924245\n",
      "loves\t\t\t : \t\t\t 1.6784772353646706\n",
      "well\t\t\t : \t\t\t 0.4996296751282036\n",
      "able\t\t\t : \t\t\t 0.20382520903415788\n",
      "car\t\t\t : \t\t\t 0.07720213823143963\n",
      "broke\t\t\t : \t\t\t -1.6944884937577147\n",
      "less\t\t\t : \t\t\t -0.19128761186521287\n",
      "even\t\t\t : \t\t\t -0.5273211694704582\n",
      "waste\t\t\t : \t\t\t -2.0537523777790323\n",
      "disappointed\t\t\t : \t\t\t -2.3804728263154917\n",
      "work\t\t\t : \t\t\t -0.6425424775809814\n",
      "product\t\t\t : \t\t\t -0.304198901331846\n",
      "money\t\t\t : \t\t\t -0.8854002931774407\n",
      "would\t\t\t : \t\t\t -0.33833046729765315\n",
      "return\t\t\t : \t\t\t -2.0240843805152995\n"
     ]
    }
   ],
   "source": [
    "#b)\n",
    "# negative values have impact on negative review and positive on positive review\n",
    "for name, weight in zip(significant_words, simple_model.coef_[0]):\n",
    "    print(f'{name}\\t\\t\\t : \\t\\t\\t {weight}')"
   ]
  },
  {
   "cell_type": "code",
   "execution_count": 367,
   "metadata": {
    "collapsed": true,
    "ExecuteTime": {
     "end_time": "2023-12-08T16:26:30.335514200Z",
     "start_time": "2023-12-08T16:26:21.975071500Z"
    }
   },
   "outputs": [
    {
     "name": "stderr",
     "output_type": "stream",
     "text": [
      "D:\\Anaconda\\Lib\\site-packages\\sklearn\\utils\\validation.py:605: FutureWarning: is_sparse is deprecated and will be removed in a future version. Check `isinstance(dtype, pd.SparseDtype)` instead.\n",
      "  if is_sparse(pd_dtype):\n",
      "D:\\Anaconda\\Lib\\site-packages\\sklearn\\utils\\validation.py:614: FutureWarning: is_sparse is deprecated and will be removed in a future version. Check `isinstance(dtype, pd.SparseDtype)` instead.\n",
      "  if is_sparse(pd_dtype) or not is_extension_array_dtype(pd_dtype):\n",
      "[Parallel(n_jobs=4)]: Using backend LokyBackend with 4 concurrent workers.\n",
      "[Parallel(n_jobs=4)]: Done   1 out of   1 | elapsed:    0.7s finished\n"
     ]
    },
    {
     "name": "stdout",
     "output_type": "stream",
     "text": [
      "Accuracy: 0.8676288330068365\n",
      "CPU times: total: 7.02 s\n",
      "Wall time: 8.35 s\n"
     ]
    }
   ],
   "source": [
    "%%time\n",
    "#c\n",
    "# time is calculated for everything to see the difference\n",
    "\n",
    "X_train, X_test, y_train, y_test = train_test_split(baby_df['review'], baby_df['rating'], test_size=0.3, random_state=117)\n",
    "\n",
    "vectorizer = CountVectorizer(vocabulary=significant_words)\n",
    "X_train = vectorizer.fit_transform(X_train.astype('U'))\n",
    "X_test = vectorizer.transform(X_test.astype('U'))\n",
    "\n",
    "model = LogisticRegression(max_iter=300, verbose=1, n_jobs=4)\n",
    "model.fit(X_train, y_train)\n",
    "\n",
    "print(f'Accuracy: {sum([1 for x, y in zip(model.predict(X_test), y_test) if x == y]) / X_test.shape[0]}')"
   ]
  },
  {
   "cell_type": "code",
   "execution_count": 368,
   "outputs": [
    {
     "name": "stderr",
     "output_type": "stream",
     "text": [
      "D:\\Anaconda\\Lib\\site-packages\\sklearn\\utils\\validation.py:605: FutureWarning: is_sparse is deprecated and will be removed in a future version. Check `isinstance(dtype, pd.SparseDtype)` instead.\n",
      "  if is_sparse(pd_dtype):\n",
      "D:\\Anaconda\\Lib\\site-packages\\sklearn\\utils\\validation.py:614: FutureWarning: is_sparse is deprecated and will be removed in a future version. Check `isinstance(dtype, pd.SparseDtype)` instead.\n",
      "  if is_sparse(pd_dtype) or not is_extension_array_dtype(pd_dtype):\n",
      "[Parallel(n_jobs=4)]: Using backend LokyBackend with 4 concurrent workers.\n",
      "[Parallel(n_jobs=4)]: Done   1 out of   1 | elapsed:    7.5s finished\n"
     ]
    },
    {
     "name": "stdout",
     "output_type": "stream",
     "text": [
      "Accuracy: 0.9297965058169751\n",
      "CPU times: total: 5.95 s\n",
      "Wall time: 14 s\n"
     ]
    }
   ],
   "source": [
    "%%time\n",
    "\n",
    "X_train, X_test, y_train, y_test = train_test_split(baby_df['review'], baby_df['rating'], test_size=0.3, random_state=117)\n",
    "\n",
    "vectorizer = CountVectorizer()\n",
    "X_train = vectorizer.fit_transform(X_train.astype('U'))\n",
    "X_test = vectorizer.transform(X_test.astype('U'))\n",
    "\n",
    "model = LogisticRegression(max_iter=300, verbose=1, n_jobs=4)\n",
    "model.fit(X_train, y_train)\n",
    "\n",
    "print(f'Accuracy: {sum([1 for x, y in zip(model.predict(X_test), y_test) if x == y]) / X_test.shape[0]}')"
   ],
   "metadata": {
    "collapsed": false,
    "ExecuteTime": {
     "end_time": "2023-12-08T16:26:48.155087400Z",
     "start_time": "2023-12-08T16:26:34.201673400Z"
    }
   }
  },
  {
   "cell_type": "markdown",
   "source": [
    "## Accuracy is higher in the more complex model, but total time needed to train and evaluate is also higher.\n",
    "## Execution time of measuring only evaluation of test data is the same"
   ],
   "metadata": {
    "collapsed": false
   }
  }
 ],
 "metadata": {
  "anaconda-cloud": {},
  "kernelspec": {
   "name": "python3",
   "language": "python",
   "display_name": "Python 3 (ipykernel)"
  },
  "language_info": {
   "codemirror_mode": {
    "name": "ipython",
    "version": 2
   },
   "file_extension": ".py",
   "mimetype": "text/x-python",
   "name": "python",
   "nbconvert_exporter": "python",
   "pygments_lexer": "ipython2",
   "version": "2.7.12"
  }
 },
 "nbformat": 4,
 "nbformat_minor": 4
}
